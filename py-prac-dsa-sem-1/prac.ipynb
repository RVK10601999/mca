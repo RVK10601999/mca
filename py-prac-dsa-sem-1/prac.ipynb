{
 "cells": [
  {
   "cell_type": "markdown",
   "id": "bfac2a1f",
   "metadata": {},
   "source": [
    "# TOWER OF HANOI"
   ]
  },
  {
   "cell_type": "code",
   "execution_count": 80,
   "id": "5ef901f1",
   "metadata": {},
   "outputs": [],
   "source": [
    "def TOH(n,s,a,d):\n",
    "    print(n)\n",
    "    print(\"State: \",s,a,d)\n",
    "    if n>0:\n",
    "        TOH(n-1,s,d,a)\n",
    "        if s[1]:\n",
    "            disk = s[1].pop()\n",
    "            print(\"relocating {} from {} to {}\".format(disk,s,a))\n",
    "            d[1].append(disk)\n",
    "        TOH(n-1,a,s,d)"
   ]
  },
  {
   "cell_type": "code",
   "execution_count": 81,
   "id": "d62c17b3",
   "metadata": {
    "scrolled": true
   },
   "outputs": [
    {
     "name": "stdout",
     "output_type": "stream",
     "text": [
      "4\n",
      "State:  ('SOURCE', [4, 3, 2, 1]) ('AUX', []) ('DEST', [])\n",
      "3\n",
      "State:  ('SOURCE', [4, 3, 2, 1]) ('DEST', []) ('AUX', [])\n",
      "2\n",
      "State:  ('SOURCE', [4, 3, 2, 1]) ('AUX', []) ('DEST', [])\n",
      "1\n",
      "State:  ('SOURCE', [4, 3, 2, 1]) ('DEST', []) ('AUX', [])\n",
      "0\n",
      "State:  ('SOURCE', [4, 3, 2, 1]) ('AUX', []) ('DEST', [])\n",
      "relocating 1 from ('SOURCE', [4, 3, 2]) to ('DEST', [])\n",
      "0\n",
      "State:  ('DEST', []) ('SOURCE', [4, 3, 2]) ('AUX', [1])\n",
      "relocating 2 from ('SOURCE', [4, 3]) to ('AUX', [1])\n",
      "1\n",
      "State:  ('AUX', [1]) ('SOURCE', [4, 3]) ('DEST', [2])\n",
      "0\n",
      "State:  ('AUX', [1]) ('DEST', [2]) ('SOURCE', [4, 3])\n",
      "relocating 1 from ('AUX', []) to ('SOURCE', [4, 3])\n",
      "0\n",
      "State:  ('SOURCE', [4, 3]) ('AUX', []) ('DEST', [2, 1])\n",
      "relocating 3 from ('SOURCE', [4]) to ('DEST', [2, 1])\n",
      "2\n",
      "State:  ('DEST', [2, 1]) ('SOURCE', [4]) ('AUX', [3])\n",
      "1\n",
      "State:  ('DEST', [2, 1]) ('AUX', [3]) ('SOURCE', [4])\n",
      "0\n",
      "State:  ('DEST', [2, 1]) ('SOURCE', [4]) ('AUX', [3])\n",
      "relocating 1 from ('DEST', [2]) to ('AUX', [3])\n",
      "0\n",
      "State:  ('AUX', [3]) ('DEST', [2]) ('SOURCE', [4, 1])\n",
      "relocating 2 from ('DEST', []) to ('SOURCE', [4, 1])\n",
      "1\n",
      "State:  ('SOURCE', [4, 1]) ('DEST', []) ('AUX', [3, 2])\n",
      "0\n",
      "State:  ('SOURCE', [4, 1]) ('AUX', [3, 2]) ('DEST', [])\n",
      "relocating 1 from ('SOURCE', [4]) to ('DEST', [])\n",
      "0\n",
      "State:  ('DEST', []) ('SOURCE', [4]) ('AUX', [3, 2, 1])\n",
      "relocating 4 from ('SOURCE', []) to ('AUX', [3, 2, 1])\n",
      "3\n",
      "State:  ('AUX', [3, 2, 1]) ('SOURCE', []) ('DEST', [4])\n",
      "2\n",
      "State:  ('AUX', [3, 2, 1]) ('DEST', [4]) ('SOURCE', [])\n",
      "1\n",
      "State:  ('AUX', [3, 2, 1]) ('SOURCE', []) ('DEST', [4])\n",
      "0\n",
      "State:  ('AUX', [3, 2, 1]) ('DEST', [4]) ('SOURCE', [])\n",
      "relocating 1 from ('AUX', [3, 2]) to ('SOURCE', [])\n",
      "0\n",
      "State:  ('SOURCE', []) ('AUX', [3, 2]) ('DEST', [4, 1])\n",
      "relocating 2 from ('AUX', [3]) to ('DEST', [4, 1])\n",
      "1\n",
      "State:  ('DEST', [4, 1]) ('AUX', [3]) ('SOURCE', [2])\n",
      "0\n",
      "State:  ('DEST', [4, 1]) ('SOURCE', [2]) ('AUX', [3])\n",
      "relocating 1 from ('DEST', [4]) to ('AUX', [3])\n",
      "0\n",
      "State:  ('AUX', [3]) ('DEST', [4]) ('SOURCE', [2, 1])\n",
      "relocating 3 from ('AUX', []) to ('SOURCE', [2, 1])\n",
      "2\n",
      "State:  ('SOURCE', [2, 1]) ('AUX', []) ('DEST', [4, 3])\n",
      "1\n",
      "State:  ('SOURCE', [2, 1]) ('DEST', [4, 3]) ('AUX', [])\n",
      "0\n",
      "State:  ('SOURCE', [2, 1]) ('AUX', []) ('DEST', [4, 3])\n",
      "relocating 1 from ('SOURCE', [2]) to ('DEST', [4, 3])\n",
      "0\n",
      "State:  ('DEST', [4, 3]) ('SOURCE', [2]) ('AUX', [1])\n",
      "relocating 2 from ('SOURCE', []) to ('AUX', [1])\n",
      "1\n",
      "State:  ('AUX', [1]) ('SOURCE', []) ('DEST', [4, 3, 2])\n",
      "0\n",
      "State:  ('AUX', [1]) ('DEST', [4, 3, 2]) ('SOURCE', [])\n",
      "relocating 1 from ('AUX', []) to ('SOURCE', [])\n",
      "0\n",
      "State:  ('SOURCE', []) ('AUX', []) ('DEST', [4, 3, 2, 1])\n"
     ]
    }
   ],
   "source": [
    "s,a,d = (\"SOURCE\",[4,3,2,1]),(\"AUX\",[]),(\"DEST\",[])\n",
    "TOH(4,s,a,d)"
   ]
  },
  {
   "cell_type": "code",
   "execution_count": 77,
   "id": "b187d564",
   "metadata": {},
   "outputs": [
    {
     "data": {
      "text/plain": [
       "(('SOURCE', [4, 3, 2, 1]), ('AUX', []), ('DEST', []))"
      ]
     },
     "execution_count": 77,
     "metadata": {},
     "output_type": "execute_result"
    }
   ],
   "source": [
    "s,a,d"
   ]
  },
  {
   "cell_type": "code",
   "execution_count": null,
   "id": "b24d1b2e",
   "metadata": {},
   "outputs": [],
   "source": []
  },
  {
   "cell_type": "markdown",
   "id": "4b808a6f",
   "metadata": {},
   "source": [
    "# BINARY SEARCH"
   ]
  },
  {
   "cell_type": "code",
   "execution_count": 95,
   "id": "ea5c3876",
   "metadata": {},
   "outputs": [],
   "source": [
    "def bin_srch(ls,start,end,find):\n",
    "    if end>=start:\n",
    "        mid = start + (end - start)//2\n",
    "        print(mid)\n",
    "        if ls[mid]==find:\n",
    "            return mid\n",
    "        elif ls[mid]<find:\n",
    "            return bin_srch(ls,mid+1,end,find)\n",
    "        else:\n",
    "            return bin_srch(ls,start,mid+1,find)\n",
    "    else:\n",
    "        return -1"
   ]
  },
  {
   "cell_type": "code",
   "execution_count": 98,
   "id": "361926ba",
   "metadata": {},
   "outputs": [
    {
     "name": "stdout",
     "output_type": "stream",
     "text": [
      "59\n",
      "89\n",
      "104\n",
      "97\n",
      "101\n",
      "100\n",
      "99\n"
     ]
    },
    {
     "data": {
      "text/plain": [
       "99"
      ]
     },
     "execution_count": 98,
     "metadata": {},
     "output_type": "execute_result"
    }
   ],
   "source": [
    "ls = [i for i in range(1,120)]\n",
    "bin_srch(ls,0,len(ls)-1,100)"
   ]
  },
  {
   "cell_type": "code",
   "execution_count": null,
   "id": "3451f31e",
   "metadata": {},
   "outputs": [],
   "source": []
  },
  {
   "cell_type": "markdown",
   "id": "00876676",
   "metadata": {},
   "source": [
    "# MERGE SORT"
   ]
  },
  {
   "cell_type": "code",
   "execution_count": 66,
   "id": "e6940ea5",
   "metadata": {},
   "outputs": [],
   "source": [
    "def mergeSort(ls):\n",
    "    if len(ls)>1:\n",
    "        mid = len(ls)//2\n",
    "        L = mergeSort(ls[:mid])\n",
    "        R = mergeSort(ls[mid:])\n",
    "        i = j = k = 0\n",
    "        while i<len(L) and j<len(R):\n",
    "            if L[i]<=R[j]:\n",
    "                ls[k] = L[i]\n",
    "                i = i+1\n",
    "            else:\n",
    "                ls[k] = R[j]\n",
    "                j = j+1\n",
    "            k=k+1\n",
    "        while i<len(L):\n",
    "            ls[k] = L[i]\n",
    "            i=i+1\n",
    "            k=k+1\n",
    "        while j<len(R):\n",
    "            ls[k] = R[j]\n",
    "            j=j+1\n",
    "            k=k+1\n",
    "    return ls"
   ]
  },
  {
   "cell_type": "code",
   "execution_count": 67,
   "id": "e188c9b1",
   "metadata": {},
   "outputs": [],
   "source": [
    "ls = [23,345,1,2]"
   ]
  },
  {
   "cell_type": "code",
   "execution_count": 68,
   "id": "a2cbd44a",
   "metadata": {},
   "outputs": [
    {
     "data": {
      "text/plain": [
       "[1, 2, 23, 345]"
      ]
     },
     "execution_count": 68,
     "metadata": {},
     "output_type": "execute_result"
    }
   ],
   "source": [
    "mergeSort(ls)"
   ]
  },
  {
   "cell_type": "markdown",
   "id": "04781d20",
   "metadata": {},
   "source": [
    "# AVL TREES"
   ]
  },
  {
   "cell_type": "code",
   "execution_count": 58,
   "id": "ab267eaa",
   "metadata": {},
   "outputs": [],
   "source": [
    "class TreeNode(object):\n",
    "    def __init__(self,val):\n",
    "        self.val = val\n",
    "        self.left = None\n",
    "        self.right = None\n",
    "        self.height = 1\n",
    "    \n",
    "class AVLTree(object):\n",
    "    def insert(self,root,key):\n",
    "        #-1-BST - implemenation\n",
    "        if not root:\n",
    "            return TreeNode(key)\n",
    "        elif key<root.val:\n",
    "            root.left = self.insert(root.left,key)\n",
    "        elif key>root.val:\n",
    "            root.right = self.insert(root.right,key)\n",
    "        else:\n",
    "            print('Duplicate...Cannot Enter')\n",
    "        \n",
    "        #-2-update height into ancestor\n",
    "        root.height = 1+max(self.getHeight(root.left),self.getHeight(root.right))\n",
    "        \n",
    "        #-3-get-balance\n",
    "        bal = self.getBalance(root)\n",
    "        \n",
    "        #-4-perform-balancing\n",
    "        ##RR-case\n",
    "        if bal<-1 and key>root.right.val:\n",
    "            return self.leftRotate(root)\n",
    "        ##LL-case\n",
    "        if bal>1 and key<root.left.val:\n",
    "            return self.rightRotate(root)\n",
    "        ##RL-case\n",
    "        if bal<-1 and key<root.right.val:\n",
    "            root.right = self.rightRotate(root.right)\n",
    "            return self.leftRotate(root)\n",
    "        ##LR-case\n",
    "        if bal>1 and key>root.left.val:\n",
    "            root.left = self.leftRotate(root.left)\n",
    "            return self.rightRotate(root)\n",
    "        return root\n",
    "    \n",
    "        \n",
    "    def getHeight(self,root):\n",
    "        if not root:\n",
    "            return 0\n",
    "        else:\n",
    "            return root.height\n",
    "    \n",
    "    def getBalance(self,root):\n",
    "        if not root:\n",
    "            return 0\n",
    "        else:\n",
    "            return self.getHeight(root.left) - self.getHeight(root.right)\n",
    "    \n",
    "    def leftRotate(self,z):\n",
    "        a = z.right\n",
    "        b = a.left\n",
    "        #rotate\n",
    "        a.left = z\n",
    "        z.right = b\n",
    "        #update heights\n",
    "        z.height = 1+max(self.getHeight(z.left),self.getHeight(z.right))\n",
    "        a.height = 1+max(self.getHeight(a.left),self.getHeight(a.right))\n",
    "        #return new subtree\n",
    "        return a\n",
    "    \n",
    "    def rightRotate(self,z):\n",
    "        a = z.left\n",
    "        b = a.right\n",
    "        #rotate\n",
    "        a.right = z\n",
    "        z.left = b\n",
    "        #update heights\n",
    "        z.height = 1+max(self.getHeight(z.left),self.getHeight(z.right))\n",
    "        a.height = 1+max(self.getHeight(a.left),self.getHeight(a.right))\n",
    "        #return new subtree\n",
    "        return a\n",
    "    \n",
    "    def preOrder(self,root):\n",
    "        print(root.val,\"is a root\")\n",
    "        if root.left:\n",
    "            self.preOrder(root.left)\n",
    "        if root.right:    \n",
    "            self.preOrder(root.right)"
   ]
  },
  {
   "cell_type": "code",
   "execution_count": 59,
   "id": "78c67b30",
   "metadata": {
    "scrolled": true
   },
   "outputs": [],
   "source": [
    "Tree = AVLTree()\n",
    "root = None\n",
    "\n",
    "root = Tree.insert(root, 1)"
   ]
  },
  {
   "cell_type": "code",
   "execution_count": 60,
   "id": "889e39f4",
   "metadata": {},
   "outputs": [],
   "source": [
    "import random\n",
    "\n",
    "Tree = AVLTree()\n",
    "root = None\n",
    "\n",
    "ls = [i for i in range(1,20)]\n",
    "\n",
    "random.shuffle(ls)\n",
    "\n",
    "\n",
    "for i in ls:\n",
    "    root = Tree.insert(root,i)"
   ]
  },
  {
   "cell_type": "code",
   "execution_count": 61,
   "id": "00b9892b",
   "metadata": {},
   "outputs": [
    {
     "name": "stdout",
     "output_type": "stream",
     "text": [
      "11 is a root\n",
      "7 is a root\n",
      "3 is a root\n",
      "2 is a root\n",
      "1 is a root\n",
      "5 is a root\n",
      "4 is a root\n",
      "6 is a root\n",
      "9 is a root\n",
      "8 is a root\n",
      "10 is a root\n",
      "15 is a root\n",
      "13 is a root\n",
      "12 is a root\n",
      "14 is a root\n",
      "18 is a root\n",
      "17 is a root\n",
      "16 is a root\n",
      "19 is a root\n"
     ]
    }
   ],
   "source": [
    "Tree.preOrder(root)"
   ]
  },
  {
   "cell_type": "code",
   "execution_count": null,
   "id": "a97dd27f",
   "metadata": {},
   "outputs": [],
   "source": []
  },
  {
   "cell_type": "code",
   "execution_count": null,
   "id": "7f5379bd",
   "metadata": {},
   "outputs": [],
   "source": []
  },
  {
   "cell_type": "code",
   "execution_count": 101,
   "id": "f33e2ec4",
   "metadata": {},
   "outputs": [],
   "source": [
    "from tkinter import *\n",
    "from tkinter.filedialog import askopenfilename"
   ]
  },
  {
   "cell_type": "code",
   "execution_count": 109,
   "id": "020dfbb9",
   "metadata": {},
   "outputs": [],
   "source": [
    "r = Tk()\n",
    "mb = Menu(r)"
   ]
  },
  {
   "cell_type": "code",
   "execution_count": 110,
   "id": "44f450e6",
   "metadata": {},
   "outputs": [],
   "source": [
    "def create_menu_1():\n",
    "    f1 = Menu(mb)\n",
    "    f1.add_command(label=\"New\",command = print(\"New File\"))\n",
    "    f1.add_seperator()\n",
    "    f1.add_command(label=\"Open\",command = askopenfilename())\n",
    "    f1.add_separator()\n",
    "    f1.add_command(label=\"Exit\")\n",
    "    mb.add_cascade(label=\"Menu\",menu=f1)\n",
    "\n",
    "def create_menu_2():\n",
    "    f2 = Menu(mb)\n",
    "    f2.add_command(label=\"Copy\")\n",
    "    f2.add_seperator()\n",
    "    f2.add_command(label=\"Paste\")\n",
    "    f2.add_seperator()\n",
    "    mb.add_cascade(label=\"Edit\",menu=f2)\n",
    "    "
   ]
  },
  {
   "cell_type": "code",
   "execution_count": 111,
   "id": "073cc89d",
   "metadata": {},
   "outputs": [],
   "source": [
    "create_menu1()\n",
    "create_menu2()"
   ]
  },
  {
   "cell_type": "code",
   "execution_count": 112,
   "id": "5e016842",
   "metadata": {},
   "outputs": [],
   "source": [
    "r.config(menu=mb)"
   ]
  },
  {
   "cell_type": "code",
   "execution_count": 113,
   "id": "0591f693",
   "metadata": {},
   "outputs": [],
   "source": [
    "r.mainloop()"
   ]
  },
  {
   "cell_type": "code",
   "execution_count": null,
   "id": "acc8eb47",
   "metadata": {},
   "outputs": [],
   "source": []
  }
 ],
 "metadata": {
  "kernelspec": {
   "display_name": "Python 3 (ipykernel)",
   "language": "python",
   "name": "python3"
  },
  "language_info": {
   "codemirror_mode": {
    "name": "ipython",
    "version": 3
   },
   "file_extension": ".py",
   "mimetype": "text/x-python",
   "name": "python",
   "nbconvert_exporter": "python",
   "pygments_lexer": "ipython3",
   "version": "3.10.9"
  }
 },
 "nbformat": 4,
 "nbformat_minor": 5
}
