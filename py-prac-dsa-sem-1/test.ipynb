{
 "cells": [
  {
   "cell_type": "code",
   "execution_count": 10,
   "id": "78dd4cbe",
   "metadata": {},
   "outputs": [],
   "source": [
    "def TOH(n,s,a,d):\n",
    "    if n>0:\n",
    "        TOH(n-1,s,d,a)\n",
    "        if s[1]:\n",
    "            disk = s[1].pop()\n",
    "            d[1].append(disk)\n",
    "        TOH(n-1,a,s,d)"
   ]
  },
  {
   "cell_type": "code",
   "execution_count": 6,
   "id": "4867ec70",
   "metadata": {},
   "outputs": [],
   "source": [
    "s,a,d = (\"SOURCE\",[4,3,2,1]),(\"AUX\",[]),(\"DEST\",[])"
   ]
  },
  {
   "cell_type": "code",
   "execution_count": 7,
   "id": "45e973e5",
   "metadata": {},
   "outputs": [
    {
     "data": {
      "text/plain": [
       "('SOURCE', [4, 3, 2, 1])"
      ]
     },
     "execution_count": 7,
     "metadata": {},
     "output_type": "execute_result"
    }
   ],
   "source": [
    "s"
   ]
  },
  {
   "cell_type": "code",
   "execution_count": 8,
   "id": "598cf91b",
   "metadata": {},
   "outputs": [],
   "source": [
    "TOH(4,s,a,d)"
   ]
  },
  {
   "cell_type": "code",
   "execution_count": 11,
   "id": "2ff8821b",
   "metadata": {},
   "outputs": [
    {
     "data": {
      "text/plain": [
       "(('SOURCE', []), ('AUX', []), ('DEST', [4, 3, 2, 1]))"
      ]
     },
     "execution_count": 11,
     "metadata": {},
     "output_type": "execute_result"
    }
   ],
   "source": [
    "s,a,d"
   ]
  },
  {
   "cell_type": "code",
   "execution_count": null,
   "id": "8cff658c",
   "metadata": {},
   "outputs": [],
   "source": []
  },
  {
   "cell_type": "code",
   "execution_count": null,
   "id": "e7ff2cb2",
   "metadata": {},
   "outputs": [],
   "source": []
  },
  {
   "cell_type": "code",
   "execution_count": 22,
   "id": "df033ee3",
   "metadata": {},
   "outputs": [],
   "source": [
    "def bin_srch(ls,start,end,find):\n",
    "    if end>=start:\n",
    "        mid = start + (end-start)//2\n",
    "        if ls[mid]>find:\n",
    "            return bin_srch(ls,start,mid,find)\n",
    "        elif ls[mid]<find:\n",
    "            return bin_srch(ls,mid+1,end,find)\n",
    "        elif ls[mid]==find:\n",
    "            return mid\n",
    "        else:\n",
    "            print(end,start)\n",
    "            return -1\n",
    "    else:\n",
    "        print(end,start)\n",
    "        return -1"
   ]
  },
  {
   "cell_type": "code",
   "execution_count": 23,
   "id": "fc293e77",
   "metadata": {},
   "outputs": [
    {
     "name": "stdout",
     "output_type": "stream",
     "text": [
      "118 119\n"
     ]
    },
    {
     "data": {
      "text/plain": [
       "-1"
      ]
     },
     "execution_count": 23,
     "metadata": {},
     "output_type": "execute_result"
    }
   ],
   "source": [
    "\n",
    "ls = [i for i in range(1,120)]\n",
    "bin_srch(ls,0,len(ls)-1,1000)"
   ]
  },
  {
   "cell_type": "code",
   "execution_count": null,
   "id": "c19ccb30",
   "metadata": {},
   "outputs": [],
   "source": [
    "\n"
   ]
  },
  {
   "cell_type": "code",
   "execution_count": null,
   "id": "b459e8d0",
   "metadata": {},
   "outputs": [],
   "source": []
  },
  {
   "cell_type": "code",
   "execution_count": null,
   "id": "47e34434",
   "metadata": {},
   "outputs": [],
   "source": []
  },
  {
   "cell_type": "code",
   "execution_count": 1,
   "id": "926b9c3f",
   "metadata": {},
   "outputs": [],
   "source": [
    "def mergeSort(ls):\n",
    "    if len(ls)>1:\n",
    "        mid = len(ls)//2\n",
    "        L = mergeSort(ls[:mid])\n",
    "        R = mergeSort(ls[mid:])\n",
    "        i=j=k=0\n",
    "        while i<len(L) and j<len(R):\n",
    "            if L[i]<=R[j]:\n",
    "                ls[k]=L[i]\n",
    "                i=i+1\n",
    "            else:\n",
    "                ls[k]=R[j]\n",
    "                j=j+1\n",
    "            k=k+1\n",
    "            \n",
    "        while i<len(L):\n",
    "            ls[k]=L[i]\n",
    "            i=i+1\n",
    "            k=k+1\n",
    "        while j<len(R):\n",
    "            ls[k]=R[j]\n",
    "            j=j+1\n",
    "            k=k+1\n",
    "            \n",
    "    return ls\n"
   ]
  },
  {
   "cell_type": "code",
   "execution_count": 4,
   "id": "37bd0a63",
   "metadata": {},
   "outputs": [],
   "source": [
    "ls = [23,345,1,2,1002,-123]"
   ]
  },
  {
   "cell_type": "code",
   "execution_count": 5,
   "id": "2119ca60",
   "metadata": {},
   "outputs": [
    {
     "data": {
      "text/plain": [
       "[-123, 1, 2, 23, 345, 1002]"
      ]
     },
     "execution_count": 5,
     "metadata": {},
     "output_type": "execute_result"
    }
   ],
   "source": [
    "mergeSort(ls)"
   ]
  },
  {
   "cell_type": "code",
   "execution_count": null,
   "id": "1477c98f",
   "metadata": {},
   "outputs": [],
   "source": []
  }
 ],
 "metadata": {
  "kernelspec": {
   "display_name": "Python 3 (ipykernel)",
   "language": "python",
   "name": "python3"
  },
  "language_info": {
   "codemirror_mode": {
    "name": "ipython",
    "version": 3
   },
   "file_extension": ".py",
   "mimetype": "text/x-python",
   "name": "python",
   "nbconvert_exporter": "python",
   "pygments_lexer": "ipython3",
   "version": "3.10.9"
  }
 },
 "nbformat": 4,
 "nbformat_minor": 5
}
