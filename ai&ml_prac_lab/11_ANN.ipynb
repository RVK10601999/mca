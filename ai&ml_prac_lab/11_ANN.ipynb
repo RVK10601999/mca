{
 "cells": [
  {
   "cell_type": "code",
   "execution_count": 2,
   "metadata": {
    "scrolled": true
   },
   "outputs": [
    {
     "name": "stdout",
     "output_type": "stream",
     "text": [
      "Collecting tensorflow\n",
      "  Downloading tensorflow-2.15.0-cp310-cp310-win_amd64.whl (2.1 kB)\n",
      "Collecting tensorflow-intel==2.15.0\n",
      "  Downloading tensorflow_intel-2.15.0-cp310-cp310-win_amd64.whl (300.9 MB)\n",
      "     -------------------------------------- 300.9/300.9 MB 1.9 MB/s eta 0:00:00\n",
      "Collecting flatbuffers>=23.5.26\n",
      "  Downloading flatbuffers-23.5.26-py2.py3-none-any.whl (26 kB)\n",
      "Collecting gast!=0.5.0,!=0.5.1,!=0.5.2,>=0.2.1\n",
      "  Downloading gast-0.5.4-py3-none-any.whl (19 kB)\n",
      "Requirement already satisfied: six>=1.12.0 in c:\\users\\admin\\anaconda3\\lib\\site-packages (from tensorflow-intel==2.15.0->tensorflow) (1.16.0)\n",
      "Requirement already satisfied: packaging in c:\\users\\admin\\anaconda3\\lib\\site-packages (from tensorflow-intel==2.15.0->tensorflow) (22.0)\n",
      "Collecting protobuf!=4.21.0,!=4.21.1,!=4.21.2,!=4.21.3,!=4.21.4,!=4.21.5,<5.0.0dev,>=3.20.3\n",
      "  Downloading protobuf-4.25.1-cp310-abi3-win_amd64.whl (413 kB)\n",
      "     -------------------------------------- 413.4/413.4 kB 3.7 MB/s eta 0:00:00\n",
      "Requirement already satisfied: opt-einsum>=2.3.2 in c:\\users\\admin\\anaconda3\\lib\\site-packages (from tensorflow-intel==2.15.0->tensorflow) (3.3.0)\n",
      "Collecting ml-dtypes~=0.2.0\n",
      "  Downloading ml_dtypes-0.2.0-cp310-cp310-win_amd64.whl (938 kB)\n",
      "     -------------------------------------- 938.6/938.6 kB 1.2 MB/s eta 0:00:00\n",
      "Requirement already satisfied: wrapt<1.15,>=1.11.0 in c:\\users\\admin\\anaconda3\\lib\\site-packages (from tensorflow-intel==2.15.0->tensorflow) (1.14.1)\n",
      "Collecting tensorflow-io-gcs-filesystem>=0.23.1\n",
      "  Downloading tensorflow_io_gcs_filesystem-0.31.0-cp310-cp310-win_amd64.whl (1.5 MB)\n",
      "     ---------------------------------------- 1.5/1.5 MB 1.5 MB/s eta 0:00:00\n",
      "Collecting tensorboard<2.16,>=2.15\n",
      "  Downloading tensorboard-2.15.1-py3-none-any.whl (5.5 MB)\n",
      "     ---------------------------------------- 5.5/5.5 MB 1.7 MB/s eta 0:00:00\n",
      "Collecting google-pasta>=0.1.1\n",
      "  Downloading google_pasta-0.2.0-py3-none-any.whl (57 kB)\n",
      "     ---------------------------------------- 57.5/57.5 kB 3.0 MB/s eta 0:00:00\n",
      "Collecting keras<2.16,>=2.15.0\n",
      "  Downloading keras-2.15.0-py3-none-any.whl (1.7 MB)\n",
      "     ---------------------------------------- 1.7/1.7 MB 2.1 MB/s eta 0:00:00\n",
      "Requirement already satisfied: h5py>=2.9.0 in c:\\users\\admin\\anaconda3\\lib\\site-packages (from tensorflow-intel==2.15.0->tensorflow) (3.7.0)\n",
      "Collecting libclang>=13.0.0\n",
      "  Downloading libclang-16.0.6-py2.py3-none-win_amd64.whl (24.4 MB)\n",
      "     ---------------------------------------- 24.4/24.4 MB 4.9 MB/s eta 0:00:00\n",
      "Collecting grpcio<2.0,>=1.24.3\n",
      "  Downloading grpcio-1.60.0-cp310-cp310-win_amd64.whl (3.7 MB)\n",
      "     ---------------------------------------- 3.7/3.7 MB 4.6 MB/s eta 0:00:00\n",
      "Collecting absl-py>=1.0.0\n",
      "  Downloading absl_py-2.0.0-py3-none-any.whl (130 kB)\n",
      "     -------------------------------------- 130.2/130.2 kB 2.6 MB/s eta 0:00:00\n",
      "Collecting tensorflow-estimator<2.16,>=2.15.0\n",
      "  Downloading tensorflow_estimator-2.15.0-py2.py3-none-any.whl (441 kB)\n",
      "     -------------------------------------- 442.0/442.0 kB 5.5 MB/s eta 0:00:00\n",
      "Requirement already satisfied: typing-extensions>=3.6.6 in c:\\users\\admin\\anaconda3\\lib\\site-packages (from tensorflow-intel==2.15.0->tensorflow) (4.4.0)\n",
      "Requirement already satisfied: setuptools in c:\\users\\admin\\anaconda3\\lib\\site-packages (from tensorflow-intel==2.15.0->tensorflow) (65.6.3)\n",
      "Requirement already satisfied: numpy<2.0.0,>=1.23.5 in c:\\users\\admin\\anaconda3\\lib\\site-packages (from tensorflow-intel==2.15.0->tensorflow) (1.23.5)\n",
      "Collecting termcolor>=1.1.0\n",
      "  Downloading termcolor-2.4.0-py3-none-any.whl (7.7 kB)\n",
      "Collecting astunparse>=1.6.0\n",
      "  Downloading astunparse-1.6.3-py2.py3-none-any.whl (12 kB)\n",
      "Requirement already satisfied: wheel<1.0,>=0.23.0 in c:\\users\\admin\\anaconda3\\lib\\site-packages (from astunparse>=1.6.0->tensorflow-intel==2.15.0->tensorflow) (0.38.4)\n",
      "Collecting google-auth<3,>=1.6.3\n",
      "  Downloading google_auth-2.26.1-py2.py3-none-any.whl (186 kB)\n",
      "     -------------------------------------- 186.4/186.4 kB 5.7 MB/s eta 0:00:00\n",
      "Collecting tensorboard-data-server<0.8.0,>=0.7.0\n",
      "  Downloading tensorboard_data_server-0.7.2-py3-none-any.whl (2.4 kB)\n",
      "Requirement already satisfied: markdown>=2.6.8 in c:\\users\\admin\\anaconda3\\lib\\site-packages (from tensorboard<2.16,>=2.15->tensorflow-intel==2.15.0->tensorflow) (3.4.1)\n",
      "Requirement already satisfied: requests<3,>=2.21.0 in c:\\users\\admin\\anaconda3\\lib\\site-packages (from tensorboard<2.16,>=2.15->tensorflow-intel==2.15.0->tensorflow) (2.28.1)\n",
      "Requirement already satisfied: werkzeug>=1.0.1 in c:\\users\\admin\\anaconda3\\lib\\site-packages (from tensorboard<2.16,>=2.15->tensorflow-intel==2.15.0->tensorflow) (2.2.2)\n",
      "Collecting google-auth-oauthlib<2,>=0.5\n",
      "  Downloading google_auth_oauthlib-1.2.0-py2.py3-none-any.whl (24 kB)\n",
      "Collecting protobuf!=4.21.0,!=4.21.1,!=4.21.2,!=4.21.3,!=4.21.4,!=4.21.5,<5.0.0dev,>=3.20.3\n",
      "  Downloading protobuf-4.23.4-cp310-abi3-win_amd64.whl (422 kB)\n",
      "     -------------------------------------- 422.5/422.5 kB 4.4 MB/s eta 0:00:00\n",
      "Requirement already satisfied: pyasn1-modules>=0.2.1 in c:\\users\\admin\\anaconda3\\lib\\site-packages (from google-auth<3,>=1.6.3->tensorboard<2.16,>=2.15->tensorflow-intel==2.15.0->tensorflow) (0.2.8)\n",
      "Collecting cachetools<6.0,>=2.0.0\n",
      "  Downloading cachetools-5.3.2-py3-none-any.whl (9.3 kB)\n",
      "Collecting rsa<5,>=3.1.4\n",
      "  Downloading rsa-4.9-py3-none-any.whl (34 kB)\n",
      "Collecting requests-oauthlib>=0.7.0\n",
      "  Downloading requests_oauthlib-1.3.1-py2.py3-none-any.whl (23 kB)\n",
      "Requirement already satisfied: idna<4,>=2.5 in c:\\users\\admin\\anaconda3\\lib\\site-packages (from requests<3,>=2.21.0->tensorboard<2.16,>=2.15->tensorflow-intel==2.15.0->tensorflow) (3.4)\n",
      "Requirement already satisfied: urllib3<1.27,>=1.21.1 in c:\\users\\admin\\anaconda3\\lib\\site-packages (from requests<3,>=2.21.0->tensorboard<2.16,>=2.15->tensorflow-intel==2.15.0->tensorflow) (1.26.14)\n",
      "Requirement already satisfied: certifi>=2017.4.17 in c:\\users\\admin\\anaconda3\\lib\\site-packages (from requests<3,>=2.21.0->tensorboard<2.16,>=2.15->tensorflow-intel==2.15.0->tensorflow) (2023.11.17)\n",
      "Requirement already satisfied: charset-normalizer<3,>=2 in c:\\users\\admin\\anaconda3\\lib\\site-packages (from requests<3,>=2.21.0->tensorboard<2.16,>=2.15->tensorflow-intel==2.15.0->tensorflow) (2.0.4)\n",
      "Requirement already satisfied: MarkupSafe>=2.1.1 in c:\\users\\admin\\anaconda3\\lib\\site-packages (from werkzeug>=1.0.1->tensorboard<2.16,>=2.15->tensorflow-intel==2.15.0->tensorflow) (2.1.1)\n",
      "Requirement already satisfied: pyasn1<0.5.0,>=0.4.6 in c:\\users\\admin\\anaconda3\\lib\\site-packages (from pyasn1-modules>=0.2.1->google-auth<3,>=1.6.3->tensorboard<2.16,>=2.15->tensorflow-intel==2.15.0->tensorflow) (0.4.8)\n",
      "Collecting oauthlib>=3.0.0\n",
      "  Downloading oauthlib-3.2.2-py3-none-any.whl (151 kB)\n",
      "     -------------------------------------- 151.7/151.7 kB 3.1 MB/s eta 0:00:00\n",
      "Installing collected packages: libclang, flatbuffers, termcolor, tensorflow-io-gcs-filesystem, tensorflow-estimator, tensorboard-data-server, rsa, protobuf, oauthlib, ml-dtypes, keras, grpcio, google-pasta, gast, cachetools, astunparse, absl-py, requests-oauthlib, google-auth, google-auth-oauthlib, tensorboard, tensorflow-intel, tensorflow\n",
      "Successfully installed absl-py-2.0.0 astunparse-1.6.3 cachetools-5.3.2 flatbuffers-23.5.26 gast-0.5.4 google-auth-2.26.1 google-auth-oauthlib-1.2.0 google-pasta-0.2.0 grpcio-1.60.0 keras-2.15.0 libclang-16.0.6 ml-dtypes-0.2.0 oauthlib-3.2.2 protobuf-4.23.4 requests-oauthlib-1.3.1 rsa-4.9 tensorboard-2.15.1 tensorboard-data-server-0.7.2 tensorflow-2.15.0 tensorflow-estimator-2.15.0 tensorflow-intel-2.15.0 tensorflow-io-gcs-filesystem-0.31.0 termcolor-2.4.0\n"
     ]
    }
   ],
   "source": [
    "!pip3 install tensorflow"
   ]
  },
  {
   "cell_type": "code",
   "execution_count": 47,
   "metadata": {
    "colab": {
     "base_uri": "https://localhost:8080/",
     "height": 1000
    },
    "id": "Isnbo0jzRHu4",
    "outputId": "872e1544-5a94-4478-f58a-1cb472cd9129"
   },
   "outputs": [],
   "source": [
    "import numpy as np\n",
    "import pandas as pd\n",
    "from sklearn.preprocessing import OneHotEncoder\n",
    "from sklearn.model_selection import train_test_split\n",
    "from sklearn.metrics import classification_report, roc_curve, auc\n",
    "import tensorflow as tf\n",
    "from tensorflow import keras\n",
    "import matplotlib.pyplot as plt\n",
    "\n",
    "# Load and preprocess your data (replace with your data loading code)\n",
    "data = pd.read_csv('transfusion.data')\n",
    "data = data.sample(frac=1,random_state=123).reset_index(drop=True)"
   ]
  },
  {
   "cell_type": "code",
   "execution_count": 48,
   "metadata": {},
   "outputs": [
    {
     "data": {
      "text/plain": [
       "['Adadelta',\n",
       " 'Adafactor',\n",
       " 'Adagrad',\n",
       " 'Adam',\n",
       " 'AdamW',\n",
       " 'Adamax',\n",
       " 'Ftrl',\n",
       " 'Lion',\n",
       " 'Nadam',\n",
       " 'Optimizer',\n",
       " 'RMSprop',\n",
       " 'SGD',\n",
       " '__builtins__',\n",
       " '__cached__',\n",
       " '__doc__',\n",
       " '__file__',\n",
       " '__loader__',\n",
       " '__name__',\n",
       " '__package__',\n",
       " '__path__',\n",
       " '__spec__',\n",
       " 'deserialize',\n",
       " 'experimental',\n",
       " 'get',\n",
       " 'legacy',\n",
       " 'schedules',\n",
       " 'serialize']"
      ]
     },
     "execution_count": 48,
     "metadata": {},
     "output_type": "execute_result"
    }
   ],
   "source": [
    "#displaying subroutines\n",
    "#dir(tf.keras.losses)\n",
    "dir(tf.keras.optimizers)"
   ]
  },
  {
   "cell_type": "code",
   "execution_count": 14,
   "metadata": {},
   "outputs": [],
   "source": [
    "X = np.array(data)[:, 0:-1]\n",
    "Y = np.array(data)[:, -1]"
   ]
  },
  {
   "cell_type": "code",
   "execution_count": 15,
   "metadata": {},
   "outputs": [
    {
     "name": "stderr",
     "output_type": "stream",
     "text": [
      "C:\\Users\\Admin\\anaconda3\\lib\\site-packages\\sklearn\\preprocessing\\_encoders.py:828: FutureWarning: `sparse` was renamed to `sparse_output` in version 1.2 and will be removed in 1.4. `sparse_output` is ignored unless you leave `sparse` to its default value.\n",
      "  warnings.warn(\n"
     ]
    }
   ],
   "source": [
    "one_hot_encoder = OneHotEncoder(sparse=False)\n",
    "Y = one_hot_encoder.fit_transform(np.array(Y).reshape(-1, 1))"
   ]
  },
  {
   "cell_type": "code",
   "execution_count": 16,
   "metadata": {},
   "outputs": [
    {
     "data": {
      "text/plain": [
       "array([[1., 0.],\n",
       "       [1., 0.],\n",
       "       [1., 0.],\n",
       "       ...,\n",
       "       [1., 0.],\n",
       "       [0., 1.],\n",
       "       [0., 1.]])"
      ]
     },
     "execution_count": 16,
     "metadata": {},
     "output_type": "execute_result"
    }
   ],
   "source": [
    "Y"
   ]
  },
  {
   "cell_type": "code",
   "execution_count": 38,
   "metadata": {},
   "outputs": [],
   "source": [
    "X_train, X_test, Y_train, Y_test = train_test_split(X, Y, test_size=0.25)"
   ]
  },
  {
   "cell_type": "code",
   "execution_count": 39,
   "metadata": {},
   "outputs": [],
   "source": [
    "# Define the neural network architecture\n",
    "model = keras.Sequential([\n",
    "    keras.layers.Input(shape=(X_train.shape[1],)),\n",
    "    keras.layers.Dense(11, activation='relu'),\n",
    "    keras.layers.Dense(7, activation='relu'),\n",
    "    keras.layers.Dense(3, activation='relu'),\n",
    "    keras.layers.Dense(Y_train.shape[1], activation='softmax')\n",
    "])\n",
    "\n"
   ]
  },
  {
   "cell_type": "code",
   "execution_count": 40,
   "metadata": {},
   "outputs": [
    {
     "name": "stdout",
     "output_type": "stream",
     "text": [
      "Epoch 1/100\n",
      "18/18 [==============================] - 1s 11ms/step - loss: 9.0947 - accuracy: 0.7718 - val_loss: 6.2803 - val_accuracy: 0.7326\n",
      "Epoch 2/100\n",
      "18/18 [==============================] - 0s 4ms/step - loss: 4.5005 - accuracy: 0.7718 - val_loss: 3.0746 - val_accuracy: 0.7326\n",
      "Epoch 3/100\n",
      "18/18 [==============================] - 0s 4ms/step - loss: 2.1111 - accuracy: 0.7718 - val_loss: 1.4526 - val_accuracy: 0.7326\n",
      "Epoch 4/100\n",
      "18/18 [==============================] - 0s 3ms/step - loss: 0.9776 - accuracy: 0.7718 - val_loss: 0.8706 - val_accuracy: 0.7326\n",
      "Epoch 5/100\n",
      "18/18 [==============================] - 0s 4ms/step - loss: 0.6914 - accuracy: 0.7718 - val_loss: 0.7309 - val_accuracy: 0.7326\n",
      "Epoch 6/100\n",
      "18/18 [==============================] - 0s 4ms/step - loss: 0.6720 - accuracy: 0.7718 - val_loss: 0.7176 - val_accuracy: 0.7326\n",
      "Epoch 7/100\n",
      "18/18 [==============================] - 0s 4ms/step - loss: 0.6601 - accuracy: 0.7718 - val_loss: 0.7160 - val_accuracy: 0.7326\n",
      "Epoch 8/100\n",
      "18/18 [==============================] - 0s 4ms/step - loss: 0.6559 - accuracy: 0.7718 - val_loss: 0.7040 - val_accuracy: 0.7326\n",
      "Epoch 9/100\n",
      "18/18 [==============================] - 0s 3ms/step - loss: 0.6525 - accuracy: 0.7718 - val_loss: 0.6923 - val_accuracy: 0.7326\n",
      "Epoch 10/100\n",
      "18/18 [==============================] - 0s 4ms/step - loss: 0.6507 - accuracy: 0.7718 - val_loss: 0.6966 - val_accuracy: 0.7326\n",
      "Epoch 11/100\n",
      "18/18 [==============================] - 0s 4ms/step - loss: 0.6489 - accuracy: 0.7718 - val_loss: 0.6925 - val_accuracy: 0.7326\n",
      "Epoch 12/100\n",
      "18/18 [==============================] - 0s 4ms/step - loss: 0.6438 - accuracy: 0.7718 - val_loss: 0.6877 - val_accuracy: 0.7326\n",
      "Epoch 13/100\n",
      "18/18 [==============================] - 0s 3ms/step - loss: 0.6410 - accuracy: 0.7718 - val_loss: 0.6788 - val_accuracy: 0.7326\n",
      "Epoch 14/100\n",
      "18/18 [==============================] - 0s 4ms/step - loss: 0.6336 - accuracy: 0.7718 - val_loss: 0.6747 - val_accuracy: 0.7326\n",
      "Epoch 15/100\n",
      "18/18 [==============================] - 0s 3ms/step - loss: 0.6303 - accuracy: 0.7718 - val_loss: 0.6812 - val_accuracy: 0.7326\n",
      "Epoch 16/100\n",
      "18/18 [==============================] - 0s 4ms/step - loss: 0.6268 - accuracy: 0.7718 - val_loss: 0.6590 - val_accuracy: 0.7326\n",
      "Epoch 17/100\n",
      "18/18 [==============================] - 0s 3ms/step - loss: 0.6140 - accuracy: 0.7718 - val_loss: 0.6537 - val_accuracy: 0.7326\n",
      "Epoch 18/100\n",
      "18/18 [==============================] - 0s 3ms/step - loss: 0.6091 - accuracy: 0.7718 - val_loss: 0.6506 - val_accuracy: 0.7326\n",
      "Epoch 19/100\n",
      "18/18 [==============================] - 0s 3ms/step - loss: 0.6042 - accuracy: 0.7718 - val_loss: 0.6470 - val_accuracy: 0.7326\n",
      "Epoch 20/100\n",
      "18/18 [==============================] - 0s 3ms/step - loss: 0.6077 - accuracy: 0.7718 - val_loss: 0.6516 - val_accuracy: 0.7326\n",
      "Epoch 21/100\n",
      "18/18 [==============================] - 0s 3ms/step - loss: 0.6000 - accuracy: 0.7718 - val_loss: 0.6392 - val_accuracy: 0.7326\n",
      "Epoch 22/100\n",
      "18/18 [==============================] - 0s 4ms/step - loss: 0.5971 - accuracy: 0.7718 - val_loss: 0.6276 - val_accuracy: 0.7326\n",
      "Epoch 23/100\n",
      "18/18 [==============================] - 0s 4ms/step - loss: 0.5971 - accuracy: 0.7718 - val_loss: 0.6721 - val_accuracy: 0.7326\n",
      "Epoch 24/100\n",
      "18/18 [==============================] - 0s 3ms/step - loss: 0.6113 - accuracy: 0.7718 - val_loss: 0.6621 - val_accuracy: 0.7326\n",
      "Epoch 25/100\n",
      "18/18 [==============================] - 0s 3ms/step - loss: 0.6203 - accuracy: 0.7718 - val_loss: 0.6554 - val_accuracy: 0.7326\n",
      "Epoch 26/100\n",
      "18/18 [==============================] - 0s 4ms/step - loss: 0.6167 - accuracy: 0.7718 - val_loss: 0.6448 - val_accuracy: 0.7326\n",
      "Epoch 27/100\n",
      "18/18 [==============================] - 0s 3ms/step - loss: 0.6023 - accuracy: 0.7718 - val_loss: 0.6337 - val_accuracy: 0.7326\n",
      "Epoch 28/100\n",
      "18/18 [==============================] - 0s 3ms/step - loss: 0.5933 - accuracy: 0.7718 - val_loss: 0.6342 - val_accuracy: 0.7326\n",
      "Epoch 29/100\n",
      "18/18 [==============================] - 0s 3ms/step - loss: 0.5882 - accuracy: 0.7718 - val_loss: 0.6273 - val_accuracy: 0.7326\n",
      "Epoch 30/100\n",
      "18/18 [==============================] - 0s 3ms/step - loss: 0.5881 - accuracy: 0.7718 - val_loss: 0.6280 - val_accuracy: 0.7326\n",
      "Epoch 31/100\n",
      "18/18 [==============================] - 0s 4ms/step - loss: 0.5915 - accuracy: 0.7718 - val_loss: 0.6251 - val_accuracy: 0.7326\n",
      "Epoch 32/100\n",
      "18/18 [==============================] - 0s 3ms/step - loss: 0.5830 - accuracy: 0.7718 - val_loss: 0.6128 - val_accuracy: 0.7326\n",
      "Epoch 33/100\n",
      "18/18 [==============================] - 0s 4ms/step - loss: 0.5793 - accuracy: 0.7718 - val_loss: 0.6161 - val_accuracy: 0.7326\n",
      "Epoch 34/100\n",
      "18/18 [==============================] - 0s 4ms/step - loss: 0.5846 - accuracy: 0.7718 - val_loss: 0.6031 - val_accuracy: 0.7326\n",
      "Epoch 35/100\n",
      "18/18 [==============================] - 0s 4ms/step - loss: 0.5747 - accuracy: 0.7718 - val_loss: 0.6126 - val_accuracy: 0.7326\n",
      "Epoch 36/100\n",
      "18/18 [==============================] - 0s 3ms/step - loss: 0.5788 - accuracy: 0.7718 - val_loss: 0.6299 - val_accuracy: 0.7326\n",
      "Epoch 37/100\n",
      "18/18 [==============================] - 0s 4ms/step - loss: 0.5970 - accuracy: 0.7718 - val_loss: 0.6480 - val_accuracy: 0.7326\n",
      "Epoch 38/100\n",
      "18/18 [==============================] - 0s 4ms/step - loss: 0.5937 - accuracy: 0.7718 - val_loss: 0.6145 - val_accuracy: 0.7326\n",
      "Epoch 39/100\n",
      "18/18 [==============================] - 0s 4ms/step - loss: 0.5832 - accuracy: 0.7718 - val_loss: 0.6227 - val_accuracy: 0.7326\n",
      "Epoch 40/100\n",
      "18/18 [==============================] - 0s 5ms/step - loss: 0.5719 - accuracy: 0.7718 - val_loss: 0.6011 - val_accuracy: 0.7326\n",
      "Epoch 41/100\n",
      "18/18 [==============================] - 0s 4ms/step - loss: 0.5672 - accuracy: 0.7718 - val_loss: 0.6059 - val_accuracy: 0.7326\n",
      "Epoch 42/100\n",
      "18/18 [==============================] - 0s 4ms/step - loss: 0.5751 - accuracy: 0.7718 - val_loss: 0.6152 - val_accuracy: 0.7326\n",
      "Epoch 43/100\n",
      "18/18 [==============================] - 0s 4ms/step - loss: 0.5812 - accuracy: 0.7718 - val_loss: 0.6155 - val_accuracy: 0.7326\n",
      "Epoch 44/100\n",
      "18/18 [==============================] - 0s 4ms/step - loss: 0.5773 - accuracy: 0.7683 - val_loss: 0.6604 - val_accuracy: 0.7326\n",
      "Epoch 45/100\n",
      "18/18 [==============================] - 0s 4ms/step - loss: 0.5737 - accuracy: 0.7718 - val_loss: 0.6172 - val_accuracy: 0.7326\n",
      "Epoch 46/100\n",
      "18/18 [==============================] - 0s 4ms/step - loss: 0.5689 - accuracy: 0.7718 - val_loss: 0.5941 - val_accuracy: 0.7326\n",
      "Epoch 47/100\n",
      "18/18 [==============================] - 0s 4ms/step - loss: 0.5661 - accuracy: 0.7718 - val_loss: 0.6019 - val_accuracy: 0.7326\n",
      "Epoch 48/100\n",
      "18/18 [==============================] - 0s 3ms/step - loss: 0.5674 - accuracy: 0.7718 - val_loss: 0.6021 - val_accuracy: 0.7326\n",
      "Epoch 49/100\n",
      "18/18 [==============================] - 0s 3ms/step - loss: 0.5682 - accuracy: 0.7718 - val_loss: 0.6052 - val_accuracy: 0.7326\n",
      "Epoch 50/100\n",
      "18/18 [==============================] - 0s 4ms/step - loss: 0.5589 - accuracy: 0.7718 - val_loss: 0.5856 - val_accuracy: 0.7326\n",
      "Epoch 51/100\n",
      "18/18 [==============================] - 0s 3ms/step - loss: 0.5562 - accuracy: 0.7718 - val_loss: 0.5951 - val_accuracy: 0.7326\n",
      "Epoch 52/100\n",
      "18/18 [==============================] - 0s 3ms/step - loss: 0.5596 - accuracy: 0.7718 - val_loss: 0.5881 - val_accuracy: 0.7326\n",
      "Epoch 53/100\n",
      "18/18 [==============================] - 0s 3ms/step - loss: 0.5579 - accuracy: 0.7718 - val_loss: 0.5968 - val_accuracy: 0.7326\n",
      "Epoch 54/100\n",
      "18/18 [==============================] - 0s 4ms/step - loss: 0.5596 - accuracy: 0.7718 - val_loss: 0.5880 - val_accuracy: 0.7326\n",
      "Epoch 55/100\n",
      "18/18 [==============================] - 0s 4ms/step - loss: 0.5581 - accuracy: 0.7718 - val_loss: 0.5901 - val_accuracy: 0.7326\n",
      "Epoch 56/100\n",
      "18/18 [==============================] - 0s 4ms/step - loss: 0.5569 - accuracy: 0.7718 - val_loss: 0.5865 - val_accuracy: 0.7326\n",
      "Epoch 57/100\n",
      "18/18 [==============================] - 0s 3ms/step - loss: 0.5560 - accuracy: 0.7718 - val_loss: 0.5934 - val_accuracy: 0.7326\n",
      "Epoch 58/100\n",
      "18/18 [==============================] - 0s 4ms/step - loss: 0.5548 - accuracy: 0.7718 - val_loss: 0.5940 - val_accuracy: 0.7326\n"
     ]
    },
    {
     "name": "stdout",
     "output_type": "stream",
     "text": [
      "Epoch 59/100\n",
      "18/18 [==============================] - 0s 3ms/step - loss: 0.5611 - accuracy: 0.7718 - val_loss: 0.6006 - val_accuracy: 0.7326\n",
      "Epoch 60/100\n",
      "18/18 [==============================] - 0s 3ms/step - loss: 0.5557 - accuracy: 0.7718 - val_loss: 0.5853 - val_accuracy: 0.7326\n",
      "Epoch 61/100\n",
      "18/18 [==============================] - 0s 4ms/step - loss: 0.5554 - accuracy: 0.7718 - val_loss: 0.5873 - val_accuracy: 0.7326\n",
      "Epoch 62/100\n",
      "18/18 [==============================] - 0s 4ms/step - loss: 0.5682 - accuracy: 0.7718 - val_loss: 0.5903 - val_accuracy: 0.7326\n",
      "Epoch 63/100\n",
      "18/18 [==============================] - 0s 4ms/step - loss: 0.5574 - accuracy: 0.7718 - val_loss: 0.5663 - val_accuracy: 0.7380\n",
      "Epoch 64/100\n",
      "18/18 [==============================] - 0s 4ms/step - loss: 0.5482 - accuracy: 0.7718 - val_loss: 0.5889 - val_accuracy: 0.7326\n",
      "Epoch 65/100\n",
      "18/18 [==============================] - 0s 3ms/step - loss: 0.5489 - accuracy: 0.7718 - val_loss: 0.5778 - val_accuracy: 0.7326\n",
      "Epoch 66/100\n",
      "18/18 [==============================] - 0s 3ms/step - loss: 0.5462 - accuracy: 0.7718 - val_loss: 0.5733 - val_accuracy: 0.7326\n",
      "Epoch 67/100\n",
      "18/18 [==============================] - 0s 3ms/step - loss: 0.5616 - accuracy: 0.7718 - val_loss: 0.6097 - val_accuracy: 0.7326\n",
      "Epoch 68/100\n",
      "18/18 [==============================] - 0s 3ms/step - loss: 0.5436 - accuracy: 0.7718 - val_loss: 0.5729 - val_accuracy: 0.7326\n",
      "Epoch 69/100\n",
      "18/18 [==============================] - 0s 3ms/step - loss: 0.5489 - accuracy: 0.7718 - val_loss: 0.5692 - val_accuracy: 0.7326\n",
      "Epoch 70/100\n",
      "18/18 [==============================] - 0s 3ms/step - loss: 0.5444 - accuracy: 0.7718 - val_loss: 0.5841 - val_accuracy: 0.7326\n",
      "Epoch 71/100\n",
      "18/18 [==============================] - 0s 3ms/step - loss: 0.5471 - accuracy: 0.7718 - val_loss: 0.5757 - val_accuracy: 0.7326\n",
      "Epoch 72/100\n",
      "18/18 [==============================] - 0s 3ms/step - loss: 0.5421 - accuracy: 0.7718 - val_loss: 0.5696 - val_accuracy: 0.7326\n",
      "Epoch 73/100\n",
      "18/18 [==============================] - 0s 3ms/step - loss: 0.5400 - accuracy: 0.7718 - val_loss: 0.5659 - val_accuracy: 0.7326\n",
      "Epoch 74/100\n",
      "18/18 [==============================] - 0s 3ms/step - loss: 0.5442 - accuracy: 0.7718 - val_loss: 0.5698 - val_accuracy: 0.7326\n",
      "Epoch 75/100\n",
      "18/18 [==============================] - 0s 3ms/step - loss: 0.5438 - accuracy: 0.7718 - val_loss: 0.5792 - val_accuracy: 0.7326\n",
      "Epoch 76/100\n",
      "18/18 [==============================] - 0s 3ms/step - loss: 0.5413 - accuracy: 0.7718 - val_loss: 0.5703 - val_accuracy: 0.7326\n",
      "Epoch 77/100\n",
      "18/18 [==============================] - 0s 3ms/step - loss: 0.5384 - accuracy: 0.7718 - val_loss: 0.5711 - val_accuracy: 0.7326\n",
      "Epoch 78/100\n",
      "18/18 [==============================] - 0s 3ms/step - loss: 0.5361 - accuracy: 0.7718 - val_loss: 0.5642 - val_accuracy: 0.7326\n",
      "Epoch 79/100\n",
      "18/18 [==============================] - 0s 3ms/step - loss: 0.5379 - accuracy: 0.7718 - val_loss: 0.5722 - val_accuracy: 0.7326\n",
      "Epoch 80/100\n",
      "18/18 [==============================] - 0s 3ms/step - loss: 0.5345 - accuracy: 0.7718 - val_loss: 0.5730 - val_accuracy: 0.7326\n",
      "Epoch 81/100\n",
      "18/18 [==============================] - 0s 3ms/step - loss: 0.5476 - accuracy: 0.7701 - val_loss: 0.5948 - val_accuracy: 0.7326\n",
      "Epoch 82/100\n",
      "18/18 [==============================] - 0s 3ms/step - loss: 0.5448 - accuracy: 0.7718 - val_loss: 0.5758 - val_accuracy: 0.7326\n",
      "Epoch 83/100\n",
      "18/18 [==============================] - 0s 3ms/step - loss: 0.5381 - accuracy: 0.7718 - val_loss: 0.5670 - val_accuracy: 0.7326\n",
      "Epoch 84/100\n",
      "18/18 [==============================] - 0s 3ms/step - loss: 0.5370 - accuracy: 0.7736 - val_loss: 0.5681 - val_accuracy: 0.7380\n",
      "Epoch 85/100\n",
      "18/18 [==============================] - 0s 3ms/step - loss: 0.5355 - accuracy: 0.7701 - val_loss: 0.5676 - val_accuracy: 0.7326\n",
      "Epoch 86/100\n",
      "18/18 [==============================] - 0s 3ms/step - loss: 0.5348 - accuracy: 0.7701 - val_loss: 0.5581 - val_accuracy: 0.7326\n",
      "Epoch 87/100\n",
      "18/18 [==============================] - 0s 3ms/step - loss: 0.5381 - accuracy: 0.7701 - val_loss: 0.5682 - val_accuracy: 0.7326\n",
      "Epoch 88/100\n",
      "18/18 [==============================] - 0s 3ms/step - loss: 0.5363 - accuracy: 0.7718 - val_loss: 0.5583 - val_accuracy: 0.7326\n",
      "Epoch 89/100\n",
      "18/18 [==============================] - 0s 3ms/step - loss: 0.5349 - accuracy: 0.7718 - val_loss: 0.5643 - val_accuracy: 0.7326\n",
      "Epoch 90/100\n",
      "18/18 [==============================] - 0s 4ms/step - loss: 0.5322 - accuracy: 0.7718 - val_loss: 0.5545 - val_accuracy: 0.7326\n",
      "Epoch 91/100\n",
      "18/18 [==============================] - 0s 3ms/step - loss: 0.5313 - accuracy: 0.7736 - val_loss: 0.5613 - val_accuracy: 0.7326\n",
      "Epoch 92/100\n",
      "18/18 [==============================] - 0s 3ms/step - loss: 0.5309 - accuracy: 0.7718 - val_loss: 0.5553 - val_accuracy: 0.7326\n",
      "Epoch 93/100\n",
      "18/18 [==============================] - 0s 3ms/step - loss: 0.5301 - accuracy: 0.7736 - val_loss: 0.5556 - val_accuracy: 0.7326\n",
      "Epoch 94/100\n",
      "18/18 [==============================] - 0s 3ms/step - loss: 0.5334 - accuracy: 0.7718 - val_loss: 0.5502 - val_accuracy: 0.7380\n",
      "Epoch 95/100\n",
      "18/18 [==============================] - 0s 3ms/step - loss: 0.5301 - accuracy: 0.7772 - val_loss: 0.5472 - val_accuracy: 0.7380\n",
      "Epoch 96/100\n",
      "18/18 [==============================] - 0s 3ms/step - loss: 0.5275 - accuracy: 0.7718 - val_loss: 0.5532 - val_accuracy: 0.7326\n",
      "Epoch 97/100\n",
      "18/18 [==============================] - 0s 3ms/step - loss: 0.5296 - accuracy: 0.7718 - val_loss: 0.5516 - val_accuracy: 0.7326\n",
      "Epoch 98/100\n",
      "18/18 [==============================] - 0s 4ms/step - loss: 0.5287 - accuracy: 0.7736 - val_loss: 0.5528 - val_accuracy: 0.7380\n",
      "Epoch 99/100\n",
      "18/18 [==============================] - 0s 4ms/step - loss: 0.5275 - accuracy: 0.7718 - val_loss: 0.5545 - val_accuracy: 0.7326\n",
      "Epoch 100/100\n",
      "18/18 [==============================] - 0s 3ms/step - loss: 0.5286 - accuracy: 0.7754 - val_loss: 0.5502 - val_accuracy: 0.7380\n"
     ]
    },
    {
     "data": {
      "text/plain": [
       "<keras.src.callbacks.History at 0x1485ce27a30>"
      ]
     },
     "execution_count": 40,
     "metadata": {},
     "output_type": "execute_result"
    }
   ],
   "source": [
    "# Compile the model\n",
    "model.compile(optimizer='Adam', loss='BinaryCrossentropy', metrics=['accuracy'])\n",
    "\n",
    "# Train the model\n",
    "epochs = 100\n",
    "batch_size = 32\n",
    "model.fit(X_train, Y_train, epochs=epochs, batch_size=batch_size, validation_data=(X_test, Y_test))"
   ]
  },
  {
   "cell_type": "code",
   "execution_count": 41,
   "metadata": {},
   "outputs": [
    {
     "name": "stdout",
     "output_type": "stream",
     "text": [
      "6/6 [==============================] - 0s 2ms/step - loss: 0.5502 - accuracy: 0.7380\n",
      "Testing Accuracy: 0.7379679083824158\n",
      "6/6 [==============================] - 0s 1ms/step\n",
      "Classification Report:\n",
      "               precision    recall  f1-score   support\n",
      "\n",
      "           0       0.74      1.00      0.85       137\n",
      "           1       1.00      0.02      0.04        50\n",
      "\n",
      "    accuracy                           0.74       187\n",
      "   macro avg       0.87      0.51      0.44       187\n",
      "weighted avg       0.81      0.74      0.63       187\n",
      "\n"
     ]
    },
    {
     "data": {
      "image/png": "[encoded data removed]",
      "text/plain": [
       "<Figure size 640x480 with 1 Axes>"
      ]
     },
     "metadata": {},
     "output_type": "display_data"
    }
   ],
   "source": [
    "# Evaluate the model\n",
    "accuracy = model.evaluate(X_test, Y_test)\n",
    "print(\"Testing Accuracy: {}\".format(accuracy[1]))\n",
    "\n",
    "# Predict and evaluate\n",
    "Y_result = model.predict(X_test)\n",
    "Y_result = np.argmax(Y_result, axis=1)\n",
    "Y_test = np.argmax(Y_test, axis=1)\n",
    "\n",
    "classification_rep = classification_report(Y_test, Y_result)\n",
    "print(\"Classification Report:\\n\", classification_rep)\n",
    "\n",
    "# Calculate fpr and tpr\n",
    "fpr, tpr, _ = roc_curve(Y_test, Y_result)\n",
    "\n",
    "# Plot ROC curve\n",
    "def plot_roc_curve(fpr, tpr):\n",
    "    plt.plot(fpr, tpr)\n",
    "    plt.axis([0, 1, 0, 1])\n",
    "    plt.xlabel('False Positive Rate')\n",
    "    plt.ylabel('True Positive Rate')\n",
    "    plt.show()\n",
    "\n",
    "plot_roc_curve(fpr, tpr)"
   ]
  },
  {
   "cell_type": "code",
   "execution_count": 42,
   "metadata": {},
   "outputs": [
    {
     "data": {
      "text/plain": [
       "array([0., 0., 1.])"
      ]
     },
     "execution_count": 42,
     "metadata": {},
     "output_type": "execute_result"
    }
   ],
   "source": [
    "fpr"
   ]
  },
  {
   "cell_type": "code",
   "execution_count": 79,
   "metadata": {},
   "outputs": [
    {
     "data": {
      "text/plain": [
       "array([0.  , 0.02, 1.  ])"
      ]
     },
     "execution_count": 79,
     "metadata": {},
     "output_type": "execute_result"
    }
   ],
   "source": [
    "tpr"
   ]
  },
  {
   "cell_type": "code",
   "execution_count": 80,
   "metadata": {},
   "outputs": [
    {
     "data": {
      "text/plain": [
       "array([2, 1, 0], dtype=int64)"
      ]
     },
     "execution_count": 80,
     "metadata": {},
     "output_type": "execute_result"
    }
   ],
   "source": [
    "_"
   ]
  },
  {
   "cell_type": "code",
   "execution_count": 44,
   "metadata": {},
   "outputs": [
    {
     "data": {
      "text/plain": [
       "array([0, 0, 0, 0, 0, 0, 1, 1, 0, 0, 1, 1, 0, 0, 0, 0, 0, 0, 0, 0, 0, 1,\n",
       "       1, 1, 0, 0, 0, 0, 0, 0, 0, 0, 0, 0, 1, 0, 0, 0, 0, 1, 1, 0, 0, 0,\n",
       "       1, 0, 0, 0, 1, 1, 0, 1, 1, 1, 0, 1, 0, 0, 1, 0, 0, 0, 0, 0, 0, 1,\n",
       "       1, 0, 1, 0, 1, 0, 0, 0, 0, 0, 0, 0, 0, 0, 1, 1, 0, 1, 1, 0, 1, 0,\n",
       "       0, 0, 0, 0, 1, 0, 0, 0, 1, 0, 0, 0, 1, 0, 0, 0, 0, 1, 0, 0, 0, 0,\n",
       "       0, 0, 1, 0, 0, 0, 0, 1, 0, 0, 0, 0, 1, 0, 0, 0, 0, 0, 1, 1, 1, 0,\n",
       "       0, 0, 1, 0, 1, 0, 0, 1, 0, 0, 0, 0, 0, 0, 0, 0, 0, 0, 1, 0, 0, 1,\n",
       "       1, 1, 0, 0, 0, 1, 1, 0, 0, 0, 1, 0, 0, 0, 0, 0, 0, 0, 0, 0, 0, 1,\n",
       "       1, 0, 0, 0, 0, 0, 0, 0, 1, 0, 0], dtype=int64)"
      ]
     },
     "execution_count": 44,
     "metadata": {},
     "output_type": "execute_result"
    }
   ],
   "source": [
    "Y_test"
   ]
  },
  {
   "cell_type": "markdown",
   "metadata": {},
   "source": [
    "# WHEAT-SEEDS"
   ]
  },
  {
   "cell_type": "code",
   "execution_count": null,
   "metadata": {},
   "outputs": [],
   "source": []
  },
  {
   "cell_type": "code",
   "execution_count": 81,
   "metadata": {
    "colab": {
     "base_uri": "https://localhost:8080/",
     "height": 1000
    },
    "id": "Isnbo0jzRHu4",
    "outputId": "872e1544-5a94-4478-f58a-1cb472cd9129"
   },
   "outputs": [],
   "source": [
    "import numpy as np\n",
    "import pandas as pd\n",
    "from sklearn.preprocessing import OneHotEncoder\n",
    "from sklearn.model_selection import train_test_split\n",
    "from sklearn.metrics import classification_report, roc_curve, auc\n",
    "import tensorflow as tf\n",
    "from tensorflow import keras\n",
    "import matplotlib.pyplot as plt\n",
    "\n",
    "# Load and preprocess your data (replace with your data loading code)\n",
    "data = pd.read_csv('seeds_dataset.txt',names = [1,2,3,4,5,6,7,8],sep='\\s+')\n",
    "data = data.sample(frac=1,random_state=123).reset_index(drop=True)"
   ]
  },
  {
   "cell_type": "code",
   "execution_count": 82,
   "metadata": {},
   "outputs": [
    {
     "data": {
      "text/plain": [
       "['BinaryCrossentropy',\n",
       " 'BinaryFocalCrossentropy',\n",
       " 'CategoricalCrossentropy',\n",
       " 'CategoricalFocalCrossentropy',\n",
       " 'CategoricalHinge',\n",
       " 'CosineSimilarity',\n",
       " 'Hinge',\n",
       " 'Huber',\n",
       " 'KLD',\n",
       " 'KLDivergence',\n",
       " 'LogCosh',\n",
       " 'Loss',\n",
       " 'MAE',\n",
       " 'MAPE',\n",
       " 'MSE',\n",
       " 'MSLE',\n",
       " 'MeanAbsoluteError',\n",
       " 'MeanAbsolutePercentageError',\n",
       " 'MeanSquaredError',\n",
       " 'MeanSquaredLogarithmicError',\n",
       " 'Poisson',\n",
       " 'Reduction',\n",
       " 'SparseCategoricalCrossentropy',\n",
       " 'SquaredHinge',\n",
       " '__builtins__',\n",
       " '__cached__',\n",
       " '__doc__',\n",
       " '__file__',\n",
       " '__loader__',\n",
       " '__name__',\n",
       " '__package__',\n",
       " '__path__',\n",
       " '__spec__',\n",
       " 'binary_crossentropy',\n",
       " 'binary_focal_crossentropy',\n",
       " 'categorical_crossentropy',\n",
       " 'categorical_focal_crossentropy',\n",
       " 'categorical_hinge',\n",
       " 'cosine_similarity',\n",
       " 'deserialize',\n",
       " 'get',\n",
       " 'hinge',\n",
       " 'huber',\n",
       " 'kl_divergence',\n",
       " 'kld',\n",
       " 'kullback_leibler_divergence',\n",
       " 'log_cosh',\n",
       " 'logcosh',\n",
       " 'mae',\n",
       " 'mape',\n",
       " 'mean_absolute_error',\n",
       " 'mean_absolute_percentage_error',\n",
       " 'mean_squared_error',\n",
       " 'mean_squared_logarithmic_error',\n",
       " 'mse',\n",
       " 'msle',\n",
       " 'poisson',\n",
       " 'serialize',\n",
       " 'sparse_categorical_crossentropy',\n",
       " 'squared_hinge']"
      ]
     },
     "execution_count": 82,
     "metadata": {},
     "output_type": "execute_result"
    }
   ],
   "source": [
    "#displaying subroutines\n",
    "dir(tf.keras.losses)\n",
    "#dir(tf.keras.optimizers)"
   ]
  },
  {
   "cell_type": "code",
   "execution_count": 83,
   "metadata": {},
   "outputs": [],
   "source": [
    "X = np.array(data)[:, 0:-1]\n",
    "Y = np.array(data)[:, -1]"
   ]
  },
  {
   "cell_type": "code",
   "execution_count": 84,
   "metadata": {},
   "outputs": [
    {
     "name": "stderr",
     "output_type": "stream",
     "text": [
      "C:\\Users\\Admin\\anaconda3\\lib\\site-packages\\sklearn\\preprocessing\\_encoders.py:828: FutureWarning: `sparse` was renamed to `sparse_output` in version 1.2 and will be removed in 1.4. `sparse_output` is ignored unless you leave `sparse` to its default value.\n",
      "  warnings.warn(\n"
     ]
    }
   ],
   "source": [
    "one_hot_encoder = OneHotEncoder(sparse=False)\n",
    "Y = one_hot_encoder.fit_transform(np.array(Y).reshape(-1, 1))"
   ]
  },
  {
   "cell_type": "code",
   "execution_count": 85,
   "metadata": {},
   "outputs": [],
   "source": [
    "X_train, X_test, Y_train, Y_test = train_test_split(X, Y, test_size=0.25)"
   ]
  },
  {
   "cell_type": "code",
   "execution_count": 86,
   "metadata": {},
   "outputs": [],
   "source": [
    "# Define the neural network architecture\n",
    "model = keras.Sequential([\n",
    "    keras.layers.Input(shape=(X_train.shape[1],)),\n",
    "    keras.layers.Dense(11, activation='relu'),\n",
    "    keras.layers.Dense(7, activation='relu'),\n",
    "    keras.layers.Dense(3, activation='relu'),\n",
    "    keras.layers.Dense(Y_train.shape[1], activation='softmax')\n",
    "])\n",
    "\n"
   ]
  },
  {
   "cell_type": "code",
   "execution_count": 87,
   "metadata": {},
   "outputs": [
    {
     "name": "stdout",
     "output_type": "stream",
     "text": [
      "Epoch 1/100\n",
      "5/5 [==============================] - 1s 73ms/step - loss: 1.1802 - accuracy: 0.3121 - val_loss: 1.0404 - val_accuracy: 0.3962\n",
      "Epoch 2/100\n",
      "5/5 [==============================] - 0s 13ms/step - loss: 1.0675 - accuracy: 0.3885 - val_loss: 1.0781 - val_accuracy: 0.5849\n",
      "Epoch 3/100\n",
      "5/5 [==============================] - 0s 14ms/step - loss: 1.0910 - accuracy: 0.4459 - val_loss: 1.0983 - val_accuracy: 0.3396\n",
      "Epoch 4/100\n",
      "5/5 [==============================] - 0s 14ms/step - loss: 1.0941 - accuracy: 0.4268 - val_loss: 1.0871 - val_accuracy: 0.5094\n",
      "Epoch 5/100\n",
      "5/5 [==============================] - 0s 14ms/step - loss: 1.0721 - accuracy: 0.5414 - val_loss: 1.0414 - val_accuracy: 0.4528\n",
      "Epoch 6/100\n",
      "5/5 [==============================] - 0s 13ms/step - loss: 1.0606 - accuracy: 0.3376 - val_loss: 1.0328 - val_accuracy: 0.3962\n",
      "Epoch 7/100\n",
      "5/5 [==============================] - 0s 14ms/step - loss: 1.0661 - accuracy: 0.3248 - val_loss: 1.0316 - val_accuracy: 0.3962\n",
      "Epoch 8/100\n",
      "5/5 [==============================] - 0s 14ms/step - loss: 1.0599 - accuracy: 0.3376 - val_loss: 1.0329 - val_accuracy: 0.4528\n",
      "Epoch 9/100\n",
      "5/5 [==============================] - 0s 14ms/step - loss: 1.0576 - accuracy: 0.4522 - val_loss: 1.0463 - val_accuracy: 0.6604\n",
      "Epoch 10/100\n",
      "5/5 [==============================] - 0s 13ms/step - loss: 1.0556 - accuracy: 0.5541 - val_loss: 1.0341 - val_accuracy: 0.5660\n",
      "Epoch 11/100\n",
      "5/5 [==============================] - 0s 13ms/step - loss: 1.0517 - accuracy: 0.4140 - val_loss: 1.0256 - val_accuracy: 0.4717\n",
      "Epoch 12/100\n",
      "5/5 [==============================] - 0s 13ms/step - loss: 1.0493 - accuracy: 0.3694 - val_loss: 1.0238 - val_accuracy: 0.5094\n",
      "Epoch 13/100\n",
      "5/5 [==============================] - 0s 13ms/step - loss: 1.0476 - accuracy: 0.4650 - val_loss: 1.0279 - val_accuracy: 0.6226\n",
      "Epoch 14/100\n",
      "5/5 [==============================] - 0s 14ms/step - loss: 1.0445 - accuracy: 0.4904 - val_loss: 1.0217 - val_accuracy: 0.5849\n",
      "Epoch 15/100\n",
      "5/5 [==============================] - 0s 13ms/step - loss: 1.0407 - accuracy: 0.5032 - val_loss: 1.0192 - val_accuracy: 0.5849\n",
      "Epoch 16/100\n",
      "5/5 [==============================] - 0s 14ms/step - loss: 1.0380 - accuracy: 0.4841 - val_loss: 1.0136 - val_accuracy: 0.5660\n",
      "Epoch 17/100\n",
      "5/5 [==============================] - 0s 14ms/step - loss: 1.0357 - accuracy: 0.4968 - val_loss: 1.0115 - val_accuracy: 0.5849\n",
      "Epoch 18/100\n",
      "5/5 [==============================] - 0s 13ms/step - loss: 1.0331 - accuracy: 0.4777 - val_loss: 1.0066 - val_accuracy: 0.5660\n",
      "Epoch 19/100\n",
      "5/5 [==============================] - 0s 14ms/step - loss: 1.0295 - accuracy: 0.5032 - val_loss: 1.0069 - val_accuracy: 0.6792\n",
      "Epoch 20/100\n",
      "5/5 [==============================] - 0s 14ms/step - loss: 1.0299 - accuracy: 0.6242 - val_loss: 1.0058 - val_accuracy: 0.6792\n",
      "Epoch 21/100\n",
      "5/5 [==============================] - 0s 14ms/step - loss: 1.0232 - accuracy: 0.5860 - val_loss: 0.9956 - val_accuracy: 0.5660\n",
      "Epoch 22/100\n",
      "5/5 [==============================] - 0s 15ms/step - loss: 1.0228 - accuracy: 0.4204 - val_loss: 0.9884 - val_accuracy: 0.5283\n",
      "Epoch 23/100\n",
      "5/5 [==============================] - 0s 14ms/step - loss: 1.0226 - accuracy: 0.5096 - val_loss: 0.9971 - val_accuracy: 0.6792\n",
      "Epoch 24/100\n",
      "5/5 [==============================] - 0s 14ms/step - loss: 1.0153 - accuracy: 0.6051 - val_loss: 0.9855 - val_accuracy: 0.6226\n",
      "Epoch 25/100\n",
      "5/5 [==============================] - 0s 14ms/step - loss: 1.0147 - accuracy: 0.4713 - val_loss: 0.9804 - val_accuracy: 0.5849\n",
      "Epoch 26/100\n",
      "5/5 [==============================] - 0s 15ms/step - loss: 1.0092 - accuracy: 0.5860 - val_loss: 0.9874 - val_accuracy: 0.6981\n",
      "Epoch 27/100\n",
      "5/5 [==============================] - 0s 13ms/step - loss: 1.0075 - accuracy: 0.5860 - val_loss: 0.9760 - val_accuracy: 0.6981\n",
      "Epoch 28/100\n",
      "5/5 [==============================] - 0s 14ms/step - loss: 1.0023 - accuracy: 0.5860 - val_loss: 0.9764 - val_accuracy: 0.6792\n",
      "Epoch 29/100\n",
      "5/5 [==============================] - 0s 15ms/step - loss: 1.0002 - accuracy: 0.5860 - val_loss: 0.9669 - val_accuracy: 0.6981\n",
      "Epoch 30/100\n",
      "5/5 [==============================] - 0s 14ms/step - loss: 0.9994 - accuracy: 0.6242 - val_loss: 0.9714 - val_accuracy: 0.6981\n",
      "Epoch 31/100\n",
      "5/5 [==============================] - 0s 17ms/step - loss: 0.9954 - accuracy: 0.5350 - val_loss: 0.9544 - val_accuracy: 0.5660\n",
      "Epoch 32/100\n",
      "5/5 [==============================] - 0s 14ms/step - loss: 0.9948 - accuracy: 0.4268 - val_loss: 0.9547 - val_accuracy: 0.6792\n",
      "Epoch 33/100\n",
      "5/5 [==============================] - 0s 15ms/step - loss: 0.9883 - accuracy: 0.6178 - val_loss: 0.9711 - val_accuracy: 0.6981\n",
      "Epoch 34/100\n",
      "5/5 [==============================] - 0s 14ms/step - loss: 0.9852 - accuracy: 0.6497 - val_loss: 0.9463 - val_accuracy: 0.6604\n",
      "Epoch 35/100\n",
      "5/5 [==============================] - 0s 14ms/step - loss: 0.9843 - accuracy: 0.4650 - val_loss: 0.9401 - val_accuracy: 0.6038\n",
      "Epoch 36/100\n",
      "5/5 [==============================] - 0s 14ms/step - loss: 0.9794 - accuracy: 0.6178 - val_loss: 0.9527 - val_accuracy: 0.6981\n",
      "Epoch 37/100\n",
      "5/5 [==============================] - 0s 13ms/step - loss: 0.9743 - accuracy: 0.6561 - val_loss: 0.9408 - val_accuracy: 0.6792\n",
      "Epoch 38/100\n",
      "5/5 [==============================] - 0s 14ms/step - loss: 0.9685 - accuracy: 0.6051 - val_loss: 0.9299 - val_accuracy: 0.6604\n",
      "Epoch 39/100\n",
      "5/5 [==============================] - 0s 14ms/step - loss: 0.9689 - accuracy: 0.5223 - val_loss: 0.9255 - val_accuracy: 0.6604\n",
      "Epoch 40/100\n",
      "5/5 [==============================] - 0s 13ms/step - loss: 0.9640 - accuracy: 0.6051 - val_loss: 0.9382 - val_accuracy: 0.6981\n",
      "Epoch 41/100\n",
      "5/5 [==============================] - 0s 14ms/step - loss: 0.9634 - accuracy: 0.6943 - val_loss: 0.9281 - val_accuracy: 0.6981\n",
      "Epoch 42/100\n",
      "5/5 [==============================] - 0s 13ms/step - loss: 0.9562 - accuracy: 0.5605 - val_loss: 0.9116 - val_accuracy: 0.5849\n",
      "Epoch 43/100\n",
      "5/5 [==============================] - 0s 13ms/step - loss: 0.9580 - accuracy: 0.4713 - val_loss: 0.9122 - val_accuracy: 0.6981\n",
      "Epoch 44/100\n",
      "5/5 [==============================] - 0s 14ms/step - loss: 0.9501 - accuracy: 0.6561 - val_loss: 0.9241 - val_accuracy: 0.6981\n",
      "Epoch 45/100\n",
      "5/5 [==============================] - 0s 13ms/step - loss: 0.9472 - accuracy: 0.6688 - val_loss: 0.9067 - val_accuracy: 0.6792\n",
      "Epoch 46/100\n",
      "5/5 [==============================] - 0s 14ms/step - loss: 0.9432 - accuracy: 0.6115 - val_loss: 0.8998 - val_accuracy: 0.6981\n",
      "Epoch 47/100\n",
      "5/5 [==============================] - 0s 15ms/step - loss: 0.9419 - accuracy: 0.6688 - val_loss: 0.9077 - val_accuracy: 0.7170\n",
      "Epoch 48/100\n",
      "5/5 [==============================] - 0s 15ms/step - loss: 0.9370 - accuracy: 0.6561 - val_loss: 0.8922 - val_accuracy: 0.6792\n",
      "Epoch 49/100\n",
      "5/5 [==============================] - 0s 14ms/step - loss: 0.9338 - accuracy: 0.6306 - val_loss: 0.8941 - val_accuracy: 0.7170\n",
      "Epoch 50/100\n",
      "5/5 [==============================] - 0s 13ms/step - loss: 0.9291 - accuracy: 0.6752 - val_loss: 0.8877 - val_accuracy: 0.6981\n",
      "Epoch 51/100\n",
      "5/5 [==============================] - 0s 14ms/step - loss: 0.9260 - accuracy: 0.6369 - val_loss: 0.8810 - val_accuracy: 0.6792\n",
      "Epoch 52/100\n",
      "5/5 [==============================] - 0s 14ms/step - loss: 0.9222 - accuracy: 0.6497 - val_loss: 0.8827 - val_accuracy: 0.7170\n",
      "Epoch 53/100\n",
      "5/5 [==============================] - 0s 14ms/step - loss: 0.9185 - accuracy: 0.6624 - val_loss: 0.8774 - val_accuracy: 0.7170\n",
      "Epoch 54/100\n",
      "5/5 [==============================] - 0s 14ms/step - loss: 0.9152 - accuracy: 0.6306 - val_loss: 0.8717 - val_accuracy: 0.6981\n",
      "Epoch 55/100\n",
      "5/5 [==============================] - 0s 14ms/step - loss: 0.9113 - accuracy: 0.6688 - val_loss: 0.8700 - val_accuracy: 0.7170\n",
      "Epoch 56/100\n",
      "5/5 [==============================] - 0s 13ms/step - loss: 0.9083 - accuracy: 0.6943 - val_loss: 0.8679 - val_accuracy: 0.7170\n",
      "Epoch 57/100\n",
      "5/5 [==============================] - 0s 14ms/step - loss: 0.9051 - accuracy: 0.6561 - val_loss: 0.8576 - val_accuracy: 0.6981\n",
      "Epoch 58/100\n",
      "5/5 [==============================] - 0s 14ms/step - loss: 0.9026 - accuracy: 0.6752 - val_loss: 0.8612 - val_accuracy: 0.7170\n",
      "Epoch 59/100\n"
     ]
    },
    {
     "name": "stdout",
     "output_type": "stream",
     "text": [
      "5/5 [==============================] - 0s 14ms/step - loss: 0.8990 - accuracy: 0.6624 - val_loss: 0.8507 - val_accuracy: 0.6981\n",
      "Epoch 60/100\n",
      "5/5 [==============================] - 0s 13ms/step - loss: 0.8948 - accuracy: 0.6433 - val_loss: 0.8497 - val_accuracy: 0.7170\n",
      "Epoch 61/100\n",
      "5/5 [==============================] - 0s 15ms/step - loss: 0.8908 - accuracy: 0.6943 - val_loss: 0.8508 - val_accuracy: 0.6981\n",
      "Epoch 62/100\n",
      "5/5 [==============================] - 0s 15ms/step - loss: 0.8883 - accuracy: 0.7070 - val_loss: 0.8403 - val_accuracy: 0.7170\n",
      "Epoch 63/100\n",
      "5/5 [==============================] - 0s 14ms/step - loss: 0.8927 - accuracy: 0.5796 - val_loss: 0.8314 - val_accuracy: 0.6981\n",
      "Epoch 64/100\n",
      "5/5 [==============================] - 0s 13ms/step - loss: 0.8798 - accuracy: 0.6943 - val_loss: 0.8512 - val_accuracy: 0.7547\n",
      "Epoch 65/100\n",
      "5/5 [==============================] - 0s 13ms/step - loss: 0.8836 - accuracy: 0.7707 - val_loss: 0.8345 - val_accuracy: 0.6981\n",
      "Epoch 66/100\n",
      "5/5 [==============================] - 0s 13ms/step - loss: 0.8737 - accuracy: 0.6369 - val_loss: 0.8206 - val_accuracy: 0.7170\n",
      "Epoch 67/100\n",
      "5/5 [==============================] - 0s 12ms/step - loss: 0.8741 - accuracy: 0.6624 - val_loss: 0.8280 - val_accuracy: 0.7170\n",
      "Epoch 68/100\n",
      "5/5 [==============================] - 0s 12ms/step - loss: 0.8689 - accuracy: 0.7197 - val_loss: 0.8238 - val_accuracy: 0.7170\n",
      "Epoch 69/100\n",
      "5/5 [==============================] - 0s 12ms/step - loss: 0.8652 - accuracy: 0.6752 - val_loss: 0.8141 - val_accuracy: 0.7170\n",
      "Epoch 70/100\n",
      "5/5 [==============================] - 0s 12ms/step - loss: 0.8633 - accuracy: 0.7006 - val_loss: 0.8208 - val_accuracy: 0.7170\n",
      "Epoch 71/100\n",
      "5/5 [==============================] - 0s 13ms/step - loss: 0.8577 - accuracy: 0.7134 - val_loss: 0.8065 - val_accuracy: 0.7170\n",
      "Epoch 72/100\n",
      "5/5 [==============================] - 0s 13ms/step - loss: 0.8606 - accuracy: 0.6178 - val_loss: 0.8039 - val_accuracy: 0.7170\n",
      "Epoch 73/100\n",
      "5/5 [==============================] - 0s 13ms/step - loss: 0.8552 - accuracy: 0.7261 - val_loss: 0.8240 - val_accuracy: 0.7736\n",
      "Epoch 74/100\n",
      "5/5 [==============================] - 0s 13ms/step - loss: 0.8528 - accuracy: 0.7389 - val_loss: 0.7957 - val_accuracy: 0.6981\n",
      "Epoch 75/100\n",
      "5/5 [==============================] - 0s 13ms/step - loss: 0.8492 - accuracy: 0.6497 - val_loss: 0.7926 - val_accuracy: 0.7170\n",
      "Epoch 76/100\n",
      "5/5 [==============================] - 0s 12ms/step - loss: 0.8486 - accuracy: 0.7452 - val_loss: 0.8110 - val_accuracy: 0.7736\n",
      "Epoch 77/100\n",
      "5/5 [==============================] - 0s 12ms/step - loss: 0.8415 - accuracy: 0.7452 - val_loss: 0.7856 - val_accuracy: 0.6981\n",
      "Epoch 78/100\n",
      "5/5 [==============================] - 0s 13ms/step - loss: 0.8402 - accuracy: 0.6433 - val_loss: 0.7825 - val_accuracy: 0.7170\n",
      "Epoch 79/100\n",
      "5/5 [==============================] - 0s 13ms/step - loss: 0.8331 - accuracy: 0.7452 - val_loss: 0.7923 - val_accuracy: 0.7547\n",
      "Epoch 80/100\n",
      "5/5 [==============================] - 0s 13ms/step - loss: 0.8340 - accuracy: 0.7707 - val_loss: 0.7849 - val_accuracy: 0.7170\n",
      "Epoch 81/100\n",
      "5/5 [==============================] - 0s 13ms/step - loss: 0.8281 - accuracy: 0.6815 - val_loss: 0.7723 - val_accuracy: 0.6981\n",
      "Epoch 82/100\n",
      "5/5 [==============================] - 0s 13ms/step - loss: 0.8267 - accuracy: 0.6815 - val_loss: 0.7762 - val_accuracy: 0.7170\n",
      "Epoch 83/100\n",
      "5/5 [==============================] - 0s 13ms/step - loss: 0.8266 - accuracy: 0.7516 - val_loss: 0.7843 - val_accuracy: 0.7736\n",
      "Epoch 84/100\n",
      "5/5 [==============================] - 0s 13ms/step - loss: 0.8198 - accuracy: 0.7261 - val_loss: 0.7635 - val_accuracy: 0.6981\n",
      "Epoch 85/100\n",
      "5/5 [==============================] - 0s 13ms/step - loss: 0.8240 - accuracy: 0.6561 - val_loss: 0.7649 - val_accuracy: 0.7170\n",
      "Epoch 86/100\n",
      "5/5 [==============================] - 0s 13ms/step - loss: 0.8156 - accuracy: 0.7643 - val_loss: 0.7711 - val_accuracy: 0.7736\n",
      "Epoch 87/100\n",
      "5/5 [==============================] - 0s 12ms/step - loss: 0.8113 - accuracy: 0.7516 - val_loss: 0.7567 - val_accuracy: 0.7170\n",
      "Epoch 88/100\n",
      "5/5 [==============================] - 0s 12ms/step - loss: 0.8087 - accuracy: 0.7261 - val_loss: 0.7548 - val_accuracy: 0.7170\n",
      "Epoch 89/100\n",
      "5/5 [==============================] - 0s 13ms/step - loss: 0.8061 - accuracy: 0.7325 - val_loss: 0.7572 - val_accuracy: 0.7547\n",
      "Epoch 90/100\n",
      "5/5 [==============================] - 0s 13ms/step - loss: 0.8041 - accuracy: 0.7580 - val_loss: 0.7553 - val_accuracy: 0.7547\n",
      "Epoch 91/100\n",
      "5/5 [==============================] - 0s 13ms/step - loss: 0.8006 - accuracy: 0.7261 - val_loss: 0.7436 - val_accuracy: 0.7358\n",
      "Epoch 92/100\n",
      "5/5 [==============================] - 0s 12ms/step - loss: 0.7983 - accuracy: 0.7197 - val_loss: 0.7499 - val_accuracy: 0.7736\n",
      "Epoch 93/100\n",
      "5/5 [==============================] - 0s 13ms/step - loss: 0.7975 - accuracy: 0.7771 - val_loss: 0.7467 - val_accuracy: 0.7736\n",
      "Epoch 94/100\n",
      "5/5 [==============================] - 0s 13ms/step - loss: 0.7955 - accuracy: 0.7006 - val_loss: 0.7361 - val_accuracy: 0.7170\n",
      "Epoch 95/100\n",
      "5/5 [==============================] - 0s 13ms/step - loss: 0.7898 - accuracy: 0.7452 - val_loss: 0.7427 - val_accuracy: 0.7736\n",
      "Epoch 96/100\n",
      "5/5 [==============================] - 0s 13ms/step - loss: 0.7888 - accuracy: 0.7580 - val_loss: 0.7351 - val_accuracy: 0.7547\n",
      "Epoch 97/100\n",
      "5/5 [==============================] - 0s 13ms/step - loss: 0.7846 - accuracy: 0.7707 - val_loss: 0.7330 - val_accuracy: 0.7547\n",
      "Epoch 98/100\n",
      "5/5 [==============================] - 0s 13ms/step - loss: 0.7835 - accuracy: 0.7516 - val_loss: 0.7264 - val_accuracy: 0.7170\n",
      "Epoch 99/100\n",
      "5/5 [==============================] - 0s 13ms/step - loss: 0.7805 - accuracy: 0.7452 - val_loss: 0.7322 - val_accuracy: 0.7736\n",
      "Epoch 100/100\n",
      "5/5 [==============================] - 0s 13ms/step - loss: 0.7780 - accuracy: 0.7580 - val_loss: 0.7241 - val_accuracy: 0.7547\n"
     ]
    },
    {
     "data": {
      "text/plain": [
       "<keras.src.callbacks.History at 0x14867be38b0>"
      ]
     },
     "execution_count": 87,
     "metadata": {},
     "output_type": "execute_result"
    }
   ],
   "source": [
    "# Compile the model\n",
    "model.compile(optimizer='Adam', loss='CategoricalCrossentropy', metrics=['accuracy'])\n",
    "\n",
    "# Train the model\n",
    "epochs = 100\n",
    "batch_size = 32\n",
    "model.fit(X_train, Y_train, epochs=epochs, batch_size=batch_size, validation_data=(X_test, Y_test))"
   ]
  },
  {
   "cell_type": "code",
   "execution_count": 88,
   "metadata": {},
   "outputs": [
    {
     "data": {
      "text/plain": [
       "array([[0., 0., 1.],\n",
       "       [1., 0., 0.],\n",
       "       [0., 1., 0.],\n",
       "       [0., 1., 0.],\n",
       "       [0., 1., 0.],\n",
       "       [0., 0., 1.],\n",
       "       [1., 0., 0.],\n",
       "       [0., 0., 1.],\n",
       "       [0., 0., 1.],\n",
       "       [0., 1., 0.],\n",
       "       [1., 0., 0.],\n",
       "       [1., 0., 0.],\n",
       "       [1., 0., 0.],\n",
       "       [0., 0., 1.],\n",
       "       [0., 0., 1.],\n",
       "       [0., 1., 0.],\n",
       "       [0., 0., 1.],\n",
       "       [0., 0., 1.],\n",
       "       [0., 1., 0.],\n",
       "       [0., 0., 1.],\n",
       "       [1., 0., 0.],\n",
       "       [0., 0., 1.],\n",
       "       [1., 0., 0.],\n",
       "       [0., 1., 0.],\n",
       "       [0., 1., 0.],\n",
       "       [1., 0., 0.],\n",
       "       [0., 0., 1.],\n",
       "       [1., 0., 0.],\n",
       "       [0., 1., 0.],\n",
       "       [1., 0., 0.],\n",
       "       [0., 1., 0.],\n",
       "       [0., 0., 1.],\n",
       "       [0., 1., 0.],\n",
       "       [0., 0., 1.],\n",
       "       [0., 1., 0.],\n",
       "       [1., 0., 0.],\n",
       "       [0., 1., 0.],\n",
       "       [0., 1., 0.],\n",
       "       [0., 0., 1.],\n",
       "       [0., 1., 0.],\n",
       "       [0., 1., 0.],\n",
       "       [0., 1., 0.],\n",
       "       [0., 0., 1.],\n",
       "       [0., 1., 0.],\n",
       "       [1., 0., 0.],\n",
       "       [1., 0., 0.],\n",
       "       [1., 0., 0.],\n",
       "       [1., 0., 0.],\n",
       "       [1., 0., 0.],\n",
       "       [1., 0., 0.],\n",
       "       [0., 1., 0.],\n",
       "       [0., 1., 0.],\n",
       "       [0., 1., 0.]])"
      ]
     },
     "execution_count": 88,
     "metadata": {},
     "output_type": "execute_result"
    }
   ],
   "source": [
    "Y_test"
   ]
  },
  {
   "cell_type": "code",
   "execution_count": 89,
   "metadata": {},
   "outputs": [
    {
     "name": "stdout",
     "output_type": "stream",
     "text": [
      "2/2 [==============================] - 0s 3ms/step\n"
     ]
    },
    {
     "data": {
      "text/plain": [
       "array([[0.36836302, 0.20754   , 0.424097  ],\n",
       "       [0.36216223, 0.30298802, 0.33484977],\n",
       "       [0.17809585, 0.7549672 , 0.06693693],\n",
       "       [0.21934807, 0.682807  , 0.09784494],\n",
       "       [0.17050247, 0.7675142 , 0.06198334],\n",
       "       [0.36836302, 0.20754   , 0.424097  ],\n",
       "       [0.33786148, 0.4069279 , 0.2552106 ],\n",
       "       [0.36836302, 0.20754   , 0.424097  ],\n",
       "       [0.36836302, 0.20754   , 0.424097  ],\n",
       "       [0.2758166 , 0.5697172 , 0.15446614],\n",
       "       [0.34684607, 0.3749794 , 0.27817452],\n",
       "       [0.3538539 , 0.3461763 , 0.2999698 ],\n",
       "       [0.25836107, 0.6069122 , 0.13472675],\n",
       "       [0.36836302, 0.20754   , 0.424097  ],\n",
       "       [0.36836302, 0.20754   , 0.424097  ],\n",
       "       [0.29135108, 0.53436244, 0.1742865 ],\n",
       "       [0.36836302, 0.20754   , 0.424097  ],\n",
       "       [0.36836302, 0.20754   , 0.424097  ],\n",
       "       [0.14191115, 0.81295675, 0.04513205],\n",
       "       [0.36836302, 0.20754   , 0.424097  ],\n",
       "       [0.36872607, 0.21891755, 0.41235638],\n",
       "       [0.36836302, 0.20754   , 0.424097  ],\n",
       "       [0.36125192, 0.30856147, 0.3301866 ],\n",
       "       [0.15217197, 0.7969644 , 0.05086364],\n",
       "       [0.22426812, 0.67369616, 0.10203572],\n",
       "       [0.34227064, 0.3917865 , 0.2659428 ],\n",
       "       [0.36836302, 0.20754   , 0.424097  ],\n",
       "       [0.35062444, 0.36000946, 0.28936613],\n",
       "       [0.17917816, 0.75316155, 0.06766025],\n",
       "       [0.31533954, 0.47401267, 0.21064773],\n",
       "       [0.23205405, 0.6590282 , 0.10891778],\n",
       "       [0.36836302, 0.20754   , 0.424097  ],\n",
       "       [0.1992308 , 0.7188885 , 0.08188066],\n",
       "       [0.36836302, 0.20754   , 0.424097  ],\n",
       "       [0.16380702, 0.77840585, 0.05778714],\n",
       "       [0.2801325 , 0.5601307 , 0.15973684],\n",
       "       [0.11357213, 0.85539544, 0.03103244],\n",
       "       [0.29276386, 0.53102213, 0.17621404],\n",
       "       [0.36836302, 0.20754   , 0.424097  ],\n",
       "       [0.1464967 , 0.8058523 , 0.04765103],\n",
       "       [0.11872241, 0.8478665 , 0.03341112],\n",
       "       [0.18465032, 0.74396485, 0.07138481],\n",
       "       [0.36836302, 0.20754   , 0.424097  ],\n",
       "       [0.23897415, 0.6457192 , 0.11530669],\n",
       "       [0.28042343, 0.5594783 , 0.1600983 ],\n",
       "       [0.36828843, 0.24524046, 0.38647112],\n",
       "       [0.34057128, 0.39773116, 0.26169756],\n",
       "       [0.31549492, 0.4735922 , 0.21091293],\n",
       "       [0.33144262, 0.42754382, 0.24101357],\n",
       "       [0.35349858, 0.3477546 , 0.29874682],\n",
       "       [0.16133499, 0.7823875 , 0.05627751],\n",
       "       [0.09585599, 0.88068616, 0.02345784],\n",
       "       [0.16362798, 0.7786949 , 0.0576771 ]], dtype=float32)"
      ]
     },
     "execution_count": 89,
     "metadata": {},
     "output_type": "execute_result"
    }
   ],
   "source": [
    "model.predict(X_test)"
   ]
  },
  {
   "cell_type": "code",
   "execution_count": 90,
   "metadata": {},
   "outputs": [
    {
     "name": "stdout",
     "output_type": "stream",
     "text": [
      "2/2 [==============================] - 0s 5ms/step - loss: 0.7241 - accuracy: 0.7547\n",
      "Testing Accuracy: 0.7547169923782349\n",
      "2/2 [==============================] - 0s 3ms/step\n",
      "Classification Report:\n",
      "               precision    recall  f1-score   support\n",
      "\n",
      "           0       1.00      0.24      0.38        17\n",
      "           1       0.66      1.00      0.79        21\n",
      "           2       0.88      1.00      0.94        15\n",
      "\n",
      "    accuracy                           0.75        53\n",
      "   macro avg       0.85      0.75      0.70        53\n",
      "weighted avg       0.83      0.75      0.70        53\n",
      "\n"
     ]
    }
   ],
   "source": [
    "# Evaluate the model\n",
    "accuracy = model.evaluate(X_test, Y_test)\n",
    "print(\"Testing Accuracy: {}\".format(accuracy[1]))\n",
    "\n",
    "# Predict and evaluate\n",
    "Y_result = model.predict(X_test)\n",
    "Y_result = np.argmax(Y_result, axis=1)\n",
    "Y_test = np.argmax(Y_test, axis=1)\n",
    "\n",
    "classification_rep = classification_report(Y_test, Y_result)\n",
    "print(\"Classification Report:\\n\", classification_rep)\n",
    "\n"
   ]
  },
  {
   "cell_type": "code",
   "execution_count": null,
   "metadata": {},
   "outputs": [],
   "source": []
  }
 ],
 "metadata": {
  "colab": {
   "provenance": []
  },
  "kernelspec": {
   "display_name": "Python 3 (ipykernel)",
   "language": "python",
   "name": "python3"
  },
  "language_info": {
   "codemirror_mode": {
    "name": "ipython",
    "version": 3
   },
   "file_extension": ".py",
   "mimetype": "text/x-python",
   "name": "python",
   "nbconvert_exporter": "python",
   "pygments_lexer": "ipython3",
   "version": "3.10.9"
  }
 },
 "nbformat": 4,
 "nbformat_minor": 1
}
