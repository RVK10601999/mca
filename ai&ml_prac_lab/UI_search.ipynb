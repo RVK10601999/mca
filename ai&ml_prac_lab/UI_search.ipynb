{
 "cells": [
  {
   "cell_type": "code",
   "execution_count": 1,
   "id": "a48c899e",
   "metadata": {},
   "outputs": [
    {
     "data": {
      "text/plain": [
       "[False, False, False, False]"
      ]
     },
     "execution_count": 1,
     "metadata": {},
     "output_type": "execute_result"
    }
   ],
   "source": [
    "[False]*(4)"
   ]
  },
  {
   "cell_type": "markdown",
   "id": "f34a064b",
   "metadata": {},
   "source": [
    "# DFS"
   ]
  },
  {
   "cell_type": "code",
   "execution_count": 2,
   "id": "01942109",
   "metadata": {},
   "outputs": [],
   "source": [
    "from collections import defaultdict"
   ]
  },
  {
   "cell_type": "code",
   "execution_count": 27,
   "id": "b10df78d",
   "metadata": {},
   "outputs": [],
   "source": [
    "class Graph:\n",
    "    def __init__(self):\n",
    "        self.graph = defaultdict(list)\n",
    "    def addEdge(self,u,v):\n",
    "        self.graph[u].append(v)\n",
    "    def DFSUtil(self,v,visited):\n",
    "        visited[v]=True\n",
    "        print(v, end=\" \")\n",
    "        for i in self.graph[v]:\n",
    "            if visited[i]==False:\n",
    "                self.DFSUtil(i,visited)\n",
    "    def DFS(self):\n",
    "        V = len(self.graph)\n",
    "        visited = [False]*(V)\n",
    "        for i in range(V):\n",
    "            if visited[i]==False:\n",
    "                self.DFSUtil(i,visited)"
   ]
  },
  {
   "cell_type": "code",
   "execution_count": 29,
   "id": "a99bbb0f",
   "metadata": {},
   "outputs": [
    {
     "name": "stdout",
     "output_type": "stream",
     "text": [
      "Following is Depth First Traversal\n",
      "0 1 2 3 4 "
     ]
    }
   ],
   "source": [
    "g = Graph()\n",
    "g.addEdge(0, 1) \n",
    "g.addEdge(0, 2) \n",
    "g.addEdge(1, 2) \n",
    "g.addEdge(2, 0) \n",
    "g.addEdge(2, 3) \n",
    "g.addEdge(3, 3)\n",
    "g.addEdge(3, 4)\n",
    "g.addEdge(4,3)\n",
    "\n",
    " \n",
    "print(\"Following is Depth First Traversal\")\n",
    "g.DFS()"
   ]
  },
  {
   "cell_type": "markdown",
   "id": "4140c8e9",
   "metadata": {},
   "source": [
    "# BFS"
   ]
  },
  {
   "cell_type": "code",
   "execution_count": 19,
   "id": "0638d63f",
   "metadata": {},
   "outputs": [],
   "source": [
    "class Graph:\n",
    "    def __init__(self):\n",
    "        self.graph = defaultdict(list)\n",
    "        \n",
    "    def addEdge(self,u,v):\n",
    "        self.graph[u].append(v)\n",
    "        self.visited=[]\n",
    "        \n",
    "    def BFS(self,s):\n",
    "        queue = []\n",
    "        queue.append(s)\n",
    "        self.visited.append(s)\n",
    "        while queue:\n",
    "            s = queue.pop(0)\n",
    "            print(s,end=\" \")\n",
    "            for i in self.graph[s]:\n",
    "                if i not in self.visited:\n",
    "                    queue.append(i)\n",
    "                    self.visited.append(s)"
   ]
  },
  {
   "cell_type": "code",
   "execution_count": 20,
   "id": "c572eac0",
   "metadata": {},
   "outputs": [
    {
     "name": "stdout",
     "output_type": "stream",
     "text": [
      "Following is Breadth First Traversal (starting from vertex 2)\n",
      "2 0 3 1 3 "
     ]
    }
   ],
   "source": [
    "g = Graph()\n",
    "g.addEdge(0, 1) \n",
    "g.addEdge(0, 2) \n",
    "g.addEdge(1, 2) \n",
    "g.addEdge(2, 0) \n",
    "g.addEdge(2, 3) \n",
    "g.addEdge(3, 3) \n",
    "  \n",
    "print (\"Following is Breadth First Traversal\"\n",
    "                  \" (starting from vertex 2)\") \n",
    "g.BFS(2) \n",
    "  "
   ]
  },
  {
   "cell_type": "code",
   "execution_count": null,
   "id": "e46b8c0e",
   "metadata": {},
   "outputs": [],
   "source": []
  }
 ],
 "metadata": {
  "kernelspec": {
   "display_name": "Python 3 (ipykernel)",
   "language": "python",
   "name": "python3"
  },
  "language_info": {
   "codemirror_mode": {
    "name": "ipython",
    "version": 3
   },
   "file_extension": ".py",
   "mimetype": "text/x-python",
   "name": "python",
   "nbconvert_exporter": "python",
   "pygments_lexer": "ipython3",
   "version": "3.10.9"
  }
 },
 "nbformat": 4,
 "nbformat_minor": 5
}
