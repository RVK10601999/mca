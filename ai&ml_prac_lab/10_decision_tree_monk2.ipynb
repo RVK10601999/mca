{
 "cells": [
  {
   "cell_type": "code",
   "execution_count": 5,
   "id": "749bc573",
   "metadata": {},
   "outputs": [
    {
     "name": "stdout",
     "output_type": "stream",
     "text": [
      "Requirement already satisfied: pydotplus in c:\\users\\admin\\anaconda3\\lib\\site-packages (2.0.2)\n",
      "Requirement already satisfied: pyparsing>=2.0.1 in c:\\users\\admin\\anaconda3\\lib\\site-packages (from pydotplus) (3.0.9)\n",
      "Note: you may need to restart the kernel to use updated packages.\n"
     ]
    }
   ],
   "source": [
    "pip install pydotplus"
   ]
  },
  {
   "cell_type": "code",
   "execution_count": 4,
   "id": "a9eea5af",
   "metadata": {},
   "outputs": [
    {
     "name": "stdout",
     "output_type": "stream",
     "text": [
      "Collecting graphviz\n",
      "  Downloading graphviz-0.20.1-py3-none-any.whl (47 kB)\n",
      "     ---------------------------------------- 47.0/47.0 kB 1.1 MB/s eta 0:00:00\n",
      "Installing collected packages: graphviz\n",
      "Successfully installed graphviz-0.20.1\n",
      "Note: you may need to restart the kernel to use updated packages.\n"
     ]
    }
   ],
   "source": [
    "pip install graphviz"
   ]
  },
  {
   "cell_type": "code",
   "execution_count": 2,
   "id": "5ee4aa9d",
   "metadata": {},
   "outputs": [
    {
     "name": "stdout",
     "output_type": "stream",
     "text": [
      "^C\n",
      "\n",
      "Note: you may need to restart the kernel to use updated packages.\n"
     ]
    }
   ],
   "source": [
    "conda install graphviz"
   ]
  },
  {
   "cell_type": "code",
   "execution_count": 1,
   "id": "9ff1f048",
   "metadata": {
    "scrolled": true
   },
   "outputs": [
    {
     "name": "stdout",
     "output_type": "stream",
     "text": [
      "Training Dataset\n",
      "   AA  A2  A3  A4  A5  A6  LABEL\n",
      "0   1   2   3   4   5   6      0\n",
      "1   2   3   4   5   6   7      1\n",
      "2   3   4   5   6   7   8      0\n",
      "3   4   5   6   7   8   9      1\n",
      "4   5   6   7   8   9  10      0\n",
      "Test Dataset\n",
      "   AA  A2  A3  A4  A5  A6  LABEL\n",
      "0   2   3   4   5   6   7      0\n",
      "1   4   5   6   7   8   9      1\n",
      "2   6   7   8   9  10  11      0\n",
      "3   8   9  10  11  12  13      1\n",
      "4  10  11  12  13  14  15      0\n",
      "Predicted Labels:\n",
      "[0 0]\n",
      "Decision Tree's Accuracy: 0.5\n",
      "Criterion=gini, Accuracy: 0.5\n",
      "Criterion=entropy, Accuracy: 0.5\n"
     ]
    },
    {
     "data": {
      "image/png": "[encoded data removed]",
      "text/plain": [
       "<Figure size 640x480 with 1 Axes>"
      ]
     },
     "metadata": {},
     "output_type": "display_data"
    },
    {
     "name": "stdout",
     "output_type": "stream",
     "text": [
      "Accuracy after reducing depth and using Entropy: 0.5\n"
     ]
    }
   ],
   "source": [
    "import pandas as pd\n",
    "import numpy as np\n",
    "from sklearn.metrics import accuracy_score\n",
    "from sklearn.model_selection import train_test_split\n",
    "from sklearn.tree import DecisionTreeClassifier, export_graphviz\n",
    "from six import StringIO\n",
    "from IPython.display import Image\n",
    "import pydotplus\n",
    "import os\n",
    "import matplotlib.pyplot as plt\n",
    "\n",
    "# Read and print the training dataset\n",
    "traindatainput = pd.read_csv('monks2_train.csv', delimiter=\",\")\n",
    "print(\"Training Dataset\")\n",
    "print(traindatainput)\n",
    "\n",
    "# Read and print the test dataset\n",
    "testdatainput = pd.read_csv('monks2_test.csv', delimiter=\",\")\n",
    "print(\"Test Dataset\")\n",
    "print(testdatainput)\n",
    "\n",
    "# Define the feature columns and target column\n",
    "X_train = traindatainput[['AA', 'A2', 'A3', 'A4', 'A5', 'A6']].values\n",
    "Y_train = traindatainput[\"LABEL\"]\n",
    "X_test = testdatainput[['AA', 'A2', 'A3', 'A4', 'A5', 'A6']].values\n",
    "Y_test = testdatainput[\"LABEL\"]\n",
    "\n",
    "# Split the data into training and testing sets\n",
    "X_train, X_test, Y_train, Y_test = train_test_split(X_train, Y_train, test_size=0.3, random_state=3)\n",
    "\n",
    "# Create a Decision Tree with criterion 'entropy' and max_depth 4\n",
    "monksTree = DecisionTreeClassifier(criterion=\"entropy\", max_depth=4)\n",
    "monksTree.fit(X_train, Y_train)\n",
    "predicted = monksTree.predict(X_test)\n",
    "print(\"Predicted Labels:\")\n",
    "print(predicted)\n",
    "\n",
    "# Find and print the accuracy of the decision tree model\n",
    "accuracy = accuracy_score(Y_test, predicted)\n",
    "print(\"Decision Tree's Accuracy:\", accuracy)\n",
    "\n",
    "# Visualize the decision tree using Graphviz\n",
    "dot_data = StringIO()\n",
    "export_graphviz(monksTree, out_file=dot_data, filled=True, rounded=True, special_characters=True, feature_names=['al', 'a2', 'a3', 'a4', 'a5', 'a6'])\n",
    "graph = pydotplus.graph_from_dot_data(dot_data.getvalue())\n",
    "graph.write_png('tree.png')\n",
    "Image(graph.create_png())\n",
    "\n",
    "# Try different criteria and check accuracy\n",
    "monksTree = DecisionTreeClassifier(criterion='gini')\n",
    "monksTree.fit(X_train, Y_train)\n",
    "pred = monksTree.predict(X_test)\n",
    "accuracy_gini = accuracy_score(Y_test, pred)\n",
    "print('Criterion=gini, Accuracy:', accuracy_gini)\n",
    "\n",
    "monksTree = DecisionTreeClassifier(criterion='entropy')\n",
    "monksTree.fit(X_train, Y_train)\n",
    "pred = monksTree.predict(X_test)\n",
    "accuracy_entropy = accuracy_score(Y_test, pred)\n",
    "print('Criterion=entropy, Accuracy:', accuracy_entropy)\n",
    "\n",
    "# Check if pruning can improve results\n",
    "max_depth = []\n",
    "acc_gini = []\n",
    "acc_entropy = []\n",
    "\n",
    "for i in range(1, 30):\n",
    "    monksTree = DecisionTreeClassifier(criterion='gini', max_depth=i)\n",
    "    monksTree.fit(X_train, Y_train)\n",
    "    pred = monksTree.predict(X_test)\n",
    "    acc_gini.append(accuracy_score(Y_test, pred))\n",
    "\n",
    "    monksTree = DecisionTreeClassifier(criterion='entropy', max_depth=i)\n",
    "    monksTree.fit(X_train, Y_train)\n",
    "    pred = monksTree.predict(X_test)\n",
    "    acc_entropy.append(accuracy_score(Y_test, pred))\n",
    "\n",
    "    max_depth.append(i)\n",
    "\n",
    "d = pd.DataFrame({'acc_gini': pd.Series(acc_gini), 'acc_entropy': pd.Series(acc_entropy), 'max_depth': pd.Series(max_depth)})\n",
    "\n",
    "# Visualize changes in parameters\n",
    "plt.plot('max_depth', 'acc_gini', data=d, label='gini')\n",
    "plt.plot('max_depth', 'acc_entropy', data=d, label='entropy')\n",
    "plt.xlabel('max_depth')\n",
    "plt.ylabel('accuracy')\n",
    "plt.legend()\n",
    "plt.show()\n",
    "\n",
    "# Check accuracy with a shorter tree (max depth of 7) and criterion of entropy\n",
    "monksTree = DecisionTreeClassifier(criterion='entropy', max_depth=7)\n",
    "monksTree.fit(X_train, Y_train)\n",
    "pred = monksTree.predict(X_test)\n",
    "accuracy_pruned = accuracy_score(Y_test, pred)\n",
    "print(\"Accuracy after reducing depth and using Entropy:\", accuracy_pruned)"
   ]
  },
  {
   "cell_type": "code",
   "execution_count": null,
   "id": "c9699bb0",
   "metadata": {},
   "outputs": [],
   "source": []
  }
 ],
 "metadata": {
  "kernelspec": {
   "display_name": "Python 3 (ipykernel)",
   "language": "python",
   "name": "python3"
  },
  "language_info": {
   "codemirror_mode": {
    "name": "ipython",
    "version": 3
   },
   "file_extension": ".py",
   "mimetype": "text/x-python",
   "name": "python",
   "nbconvert_exporter": "python",
   "pygments_lexer": "ipython3",
   "version": "3.10.9"
  }
 },
 "nbformat": 4,
 "nbformat_minor": 5
}
