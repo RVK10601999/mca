{
 "cells": [
  {
   "cell_type": "code",
   "execution_count": 1,
   "id": "a48c899e",
   "metadata": {},
   "outputs": [
    {
     "data": {
      "text/plain": [
       "[False, False, False, False]"
      ]
     },
     "execution_count": 1,
     "metadata": {},
     "output_type": "execute_result"
    }
   ],
   "source": [
    "[False]*(4)"
   ]
  },
  {
   "cell_type": "markdown",
   "id": "f34a064b",
   "metadata": {},
   "source": [
    "# DFS"
   ]
  },
  {
   "cell_type": "code",
   "execution_count": 2,
   "id": "01942109",
   "metadata": {},
   "outputs": [],
   "source": [
    "from collections import defaultdict\n",
    "import networkx as nx\n",
    "import matplotlib.pyplot as plt"
   ]
  },
  {
   "cell_type": "code",
   "execution_count": 3,
   "id": "b10df78d",
   "metadata": {},
   "outputs": [],
   "source": [
    "class Graph:\n",
    "    def __init__(self):\n",
    "        self.graph = defaultdict(list)\n",
    "    def addEdge(self,u,v):\n",
    "        self.graph[u].append(v)\n",
    "    def DFSUtil(self,v,visited):\n",
    "        visited[v]=True\n",
    "        print(v, end=\" \")\n",
    "        for i in self.graph[v]:\n",
    "            if visited[i]==False:\n",
    "                self.DFSUtil(i,visited)\n",
    "    def DFS(self):\n",
    "        V = len(self.graph)\n",
    "        visited = [False]*(V)\n",
    "        for i in range(V):\n",
    "            if visited[i]==False:\n",
    "                self.DFSUtil(i,visited)"
   ]
  },
  {
   "cell_type": "code",
   "execution_count": 4,
   "id": "a99bbb0f",
   "metadata": {},
   "outputs": [
    {
     "name": "stdout",
     "output_type": "stream",
     "text": [
      "Following is Depth First Traversal\n",
      "0 1 2 3 4 "
     ]
    }
   ],
   "source": [
    "g = Graph()\n",
    "g.addEdge(0, 1) \n",
    "g.addEdge(0, 2) \n",
    "g.addEdge(1, 2) \n",
    "g.addEdge(2, 0) \n",
    "g.addEdge(2, 3) \n",
    "g.addEdge(3, 3)\n",
    "g.addEdge(3, 4)\n",
    "g.addEdge(4,3)\n",
    "\n",
    " \n",
    "print(\"Following is Depth First Traversal\")\n",
    "g.DFS()"
   ]
  },
  {
   "cell_type": "code",
   "execution_count": 10,
   "id": "76d8cc5d",
   "metadata": {},
   "outputs": [
    {
     "name": "stdout",
     "output_type": "stream",
     "text": [
      "DFS starting from vertex 2:\n",
      "[2, 0, 1, 3, 4]\n"
     ]
    },
    {
     "data": {
      "image/png": "[encoded data removed]",
      "text/plain": [
       "<Figure size 640x480 with 1 Axes>"
      ]
     },
     "metadata": {},
     "output_type": "display_data"
    }
   ],
   "source": [
    "import matplotlib.pyplot as plt\n",
    "import networkx as nx\n",
    "\n",
    "class Graph:\n",
    "    def __init__(self):\n",
    "        self.graph = {}\n",
    "\n",
    "    def add_edge(self, u, v):\n",
    "        if u not in self.graph:\n",
    "            self.graph[u] = []\n",
    "        self.graph[u].append(v)\n",
    "\n",
    "    def dfs(self, start):\n",
    "        visited = set()\n",
    "        dfs_order = []\n",
    "\n",
    "        def dfs_recursive(node):\n",
    "            visited.add(node)\n",
    "            dfs_order.append(node)\n",
    "            for neighbor in self.graph.get(node, []):\n",
    "                if neighbor not in visited:\n",
    "                    dfs_recursive(neighbor)\n",
    "\n",
    "        dfs_recursive(start)\n",
    "        return dfs_order\n",
    "\n",
    "def visualize_dfs(graph, dfs_order):\n",
    "    G = nx.DiGraph()\n",
    "    for node, neighbors in graph.graph.items():\n",
    "        for neighbor in neighbors:\n",
    "            G.add_edge(node, neighbor)\n",
    "\n",
    "    pos = nx.spring_layout(G)\n",
    "    labels = {node: node for node in G.nodes()}\n",
    "\n",
    "    node_colors = ['blue' if node in dfs_order else 'gray' for node in G.nodes()]\n",
    "    #use below if error in next line\n",
    "    #nx.draw(G, pos, labels=labels, node_color=node_colors, with_labels=True, arrows=True)\n",
    "    nx.draw_networkx(G, pos, labels=labels, node_color=node_colors, with_labels=True, arrows=True)\n",
    "    plt.show()\n",
    "\n",
    "# Example usage:\n",
    "g = Graph()\n",
    "g.add_edge(0, 1) \n",
    "g.add_edge(0, 2) \n",
    "g.add_edge(1, 2) \n",
    "g.add_edge(2, 0) \n",
    "g.add_edge(2, 3) \n",
    "g.add_edge(3, 3)\n",
    "g.add_edge(3, 4)\n",
    "g.add_edge(4,3)\n",
    "\n",
    "start_node = 2\n",
    "dfs_order = g.dfs(start_node)\n",
    "print(\"DFS starting from vertex 2:\")\n",
    "print(dfs_order)\n",
    "\n",
    "visualize_dfs(g, dfs_order)"
   ]
  },
  {
   "cell_type": "markdown",
   "id": "4140c8e9",
   "metadata": {},
   "source": [
    "# BFS"
   ]
  },
  {
   "cell_type": "code",
   "execution_count": 6,
   "id": "0638d63f",
   "metadata": {},
   "outputs": [],
   "source": [
    "class Graph:\n",
    "    def __init__(self):\n",
    "        self.graph = defaultdict(list)\n",
    "        \n",
    "    def addEdge(self,u,v):\n",
    "        self.graph[u].append(v)\n",
    "        self.visited=[]\n",
    "        \n",
    "    def BFS(self,s):\n",
    "        queue = []\n",
    "        queue.append(s)\n",
    "        self.visited.append(s)\n",
    "        while queue:\n",
    "            s = queue.pop(0)\n",
    "            print(s,end=\" \")\n",
    "            for i in self.graph[s]:\n",
    "                if i not in self.visited:\n",
    "                    queue.append(i)\n",
    "                    self.visited.append(s)"
   ]
  },
  {
   "cell_type": "code",
   "execution_count": 7,
   "id": "c572eac0",
   "metadata": {},
   "outputs": [
    {
     "name": "stdout",
     "output_type": "stream",
     "text": [
      "Following is Breadth First Traversal (starting from vertex 2)\n",
      "2 0 3 1 3 "
     ]
    }
   ],
   "source": [
    "g = Graph()\n",
    "g.addEdge(0, 1) \n",
    "g.addEdge(0, 2) \n",
    "g.addEdge(1, 2) \n",
    "g.addEdge(2, 0) \n",
    "g.addEdge(2, 3) \n",
    "g.addEdge(3, 3) \n",
    "  \n",
    "print (\"Following is Breadth First Traversal\"\n",
    "                  \" (starting from vertex 2)\") \n",
    "g.BFS(2) \n",
    "  "
   ]
  },
  {
   "cell_type": "code",
   "execution_count": null,
   "id": "e46b8c0e",
   "metadata": {},
   "outputs": [],
   "source": []
  },
  {
   "cell_type": "code",
   "execution_count": 9,
   "id": "bb19ecb4",
   "metadata": {},
   "outputs": [
    {
     "name": "stdout",
     "output_type": "stream",
     "text": [
      "BFS starting from vertex 2: [2, 1, 3]\n"
     ]
    },
    {
     "data": {
      "image/png": "[encoded data removed]",
      "text/plain": [
       "<Figure size 640x480 with 1 Axes>"
      ]
     },
     "metadata": {},
     "output_type": "display_data"
    }
   ],
   "source": [
    "def bfs(graph, start_node):\n",
    "    visited = set()\n",
    "    queue = [start_node]\n",
    "    visited.add(start_node)\n",
    "    bfs_order = [start_node]\n",
    "\n",
    "    while queue:\n",
    "        node = queue.pop(0)\n",
    "\n",
    "        for neighbor in graph.neighbors(node):\n",
    "            if neighbor not in visited:\n",
    "                queue.append(neighbor)\n",
    "                visited.add(neighbor)\n",
    "                bfs_order.append(neighbor)\n",
    "\n",
    "    return bfs_order\n",
    "\n",
    "G = nx.DiGraph()\n",
    "\n",
    "G.add_edge(0, 1)\n",
    "G.add_edge(0, 3)\n",
    "G.add_edge(1, 2)\n",
    "G.add_edge(1, 3)\n",
    "G.add_edge(2, 1)\n",
    "G.add_edge(2, 3)\n",
    "G.add_edge(3, 3)\n",
    "\n",
    "start_node = 2\n",
    "bfs_order = bfs(G, start_node)\n",
    "print(\"BFS starting from vertex 2:\", bfs_order)\n",
    "\n",
    "pos = nx.spring_layout(G)\n",
    "#use below if error in next line\n",
    "#nx.draw(G, pos, with_labels=True, node_color='lightblue', node_size=600)\n",
    "nx.draw_networkx(G, pos, with_labels=True, node_color='lightblue', node_size=600)\n",
    "plt.title(\"BFS Visualization\")\n",
    "plt.show()\n"
   ]
  },
  {
   "cell_type": "code",
   "execution_count": null,
   "id": "e883e16f",
   "metadata": {},
   "outputs": [],
   "source": []
  }
 ],
 "metadata": {
  "kernelspec": {
   "display_name": "Python 3 (ipykernel)",
   "language": "python",
   "name": "python3"
  },
  "language_info": {
   "codemirror_mode": {
    "name": "ipython",
    "version": 3
   },
   "file_extension": ".py",
   "mimetype": "text/x-python",
   "name": "python",
   "nbconvert_exporter": "python",
   "pygments_lexer": "ipython3",
   "version": "3.10.9"
  }
 },
 "nbformat": 4,
 "nbformat_minor": 5
}
