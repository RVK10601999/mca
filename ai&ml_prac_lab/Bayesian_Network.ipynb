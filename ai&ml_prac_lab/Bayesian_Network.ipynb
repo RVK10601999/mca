{
 "cells": [
  {
   "cell_type": "code",
   "execution_count": 2,
   "id": "490b7a13",
   "metadata": {},
   "outputs": [
    {
     "name": "stdout",
     "output_type": "stream",
     "text": [
      "Collecting pgmpy\n",
      "  Downloading pgmpy-0.1.24-py3-none-any.whl (2.0 MB)\n",
      "     ---------------------------------------- 2.0/2.0 MB 142.1 kB/s eta 0:00:00\n",
      "Requirement already satisfied: scipy in c:\\users\\admin\\anaconda3\\lib\\site-packages (from pgmpy) (1.10.0)\n",
      "Requirement already satisfied: pyparsing in c:\\users\\admin\\anaconda3\\lib\\site-packages (from pgmpy) (3.0.9)\n",
      "Requirement already satisfied: numpy in c:\\users\\admin\\anaconda3\\lib\\site-packages (from pgmpy) (1.23.5)\n",
      "Requirement already satisfied: networkx in c:\\users\\admin\\anaconda3\\lib\\site-packages (from pgmpy) (2.8.4)\n",
      "Requirement already satisfied: statsmodels in c:\\users\\admin\\anaconda3\\lib\\site-packages (from pgmpy) (0.13.5)\n",
      "Requirement already satisfied: scikit-learn in c:\\users\\admin\\anaconda3\\lib\\site-packages (from pgmpy) (1.2.1)\n",
      "Requirement already satisfied: tqdm in c:\\users\\admin\\anaconda3\\lib\\site-packages (from pgmpy) (4.64.1)\n",
      "Collecting opt-einsum\n",
      "  Downloading opt_einsum-3.3.0-py3-none-any.whl (65 kB)\n",
      "     -------------------------------------- 65.5/65.5 kB 168.4 kB/s eta 0:00:00\n",
      "Requirement already satisfied: pandas in c:\\users\\admin\\anaconda3\\lib\\site-packages (from pgmpy) (1.5.3)\n",
      "Requirement already satisfied: torch in c:\\users\\admin\\anaconda3\\lib\\site-packages (from pgmpy) (1.12.1)\n",
      "Requirement already satisfied: joblib in c:\\users\\admin\\anaconda3\\lib\\site-packages (from pgmpy) (1.1.1)\n",
      "Requirement already satisfied: python-dateutil>=2.8.1 in c:\\users\\admin\\anaconda3\\lib\\site-packages (from pandas->pgmpy) (2.8.2)\n",
      "Requirement already satisfied: pytz>=2020.1 in c:\\users\\admin\\anaconda3\\lib\\site-packages (from pandas->pgmpy) (2022.7)\n",
      "Requirement already satisfied: threadpoolctl>=2.0.0 in c:\\users\\admin\\anaconda3\\lib\\site-packages (from scikit-learn->pgmpy) (2.2.0)\n",
      "Requirement already satisfied: patsy>=0.5.2 in c:\\users\\admin\\anaconda3\\lib\\site-packages (from statsmodels->pgmpy) (0.5.3)\n",
      "Requirement already satisfied: packaging>=21.3 in c:\\users\\admin\\anaconda3\\lib\\site-packages (from statsmodels->pgmpy) (22.0)\n",
      "Requirement already satisfied: typing_extensions in c:\\users\\admin\\anaconda3\\lib\\site-packages (from torch->pgmpy) (4.4.0)\n",
      "Requirement already satisfied: colorama in c:\\users\\admin\\anaconda3\\lib\\site-packages (from tqdm->pgmpy) (0.4.6)\n",
      "Requirement already satisfied: six in c:\\users\\admin\\anaconda3\\lib\\site-packages (from patsy>=0.5.2->statsmodels->pgmpy) (1.16.0)\n",
      "Installing collected packages: opt-einsum, pgmpy\n",
      "Successfully installed opt-einsum-3.3.0 pgmpy-0.1.24\n"
     ]
    }
   ],
   "source": [
    "!pip3 install pgmpy"
   ]
  },
  {
   "cell_type": "code",
   "execution_count": 1,
   "id": "f48647c9",
   "metadata": {},
   "outputs": [],
   "source": [
    "import pandas as pd\n",
    "import numpy as np\n",
    "import csv"
   ]
  },
  {
   "cell_type": "code",
   "execution_count": 4,
   "id": "ce3075af",
   "metadata": {},
   "outputs": [],
   "source": [
    "from pgmpy.estimators import MaximumLikelihoodEstimator\n",
    "from pgmpy.models import BayesianNetwork\n",
    "from pgmpy.inference import VariableElimination"
   ]
  },
  {
   "cell_type": "code",
   "execution_count": 5,
   "id": "49e9248f",
   "metadata": {},
   "outputs": [],
   "source": [
    "heart_df = pd.read_csv('heart.csv')\n",
    "heart_df = heart_df.replace('?',np.nan)"
   ]
  },
  {
   "cell_type": "code",
   "execution_count": 6,
   "id": "7fcf12e8",
   "metadata": {},
   "outputs": [
    {
     "data": {
      "text/plain": [
       "Index(['age', 'sex', 'cp', 'trestbps', 'chol', 'fbs', 'restecg', 'thalach',\n",
       "       'exang', 'oldpeak', 'slope', 'ca', 'thal', 'target'],\n",
       "      dtype='object')"
      ]
     },
     "execution_count": 6,
     "metadata": {},
     "output_type": "execute_result"
    }
   ],
   "source": [
    "heart_df.columns"
   ]
  },
  {
   "cell_type": "code",
   "execution_count": 8,
   "id": "54f80c35",
   "metadata": {},
   "outputs": [],
   "source": [
    "model = BayesianNetwork([('age','target'),('sex','target'),('exang','target'),('cp','target'),\n",
    "                ('target','restecg'),('target','chol')])"
   ]
  },
  {
   "cell_type": "code",
   "execution_count": 9,
   "id": "fb84ef2e",
   "metadata": {},
   "outputs": [],
   "source": [
    "model.fit(heart_df,estimator = MaximumLikelihoodEstimator)"
   ]
  },
  {
   "cell_type": "code",
   "execution_count": 10,
   "id": "2c3ada51",
   "metadata": {},
   "outputs": [],
   "source": [
    "heart_disease_infer = VariableElimination(model)"
   ]
  },
  {
   "cell_type": "code",
   "execution_count": 14,
   "id": "0c85dce5",
   "metadata": {},
   "outputs": [
    {
     "name": "stdout",
     "output_type": "stream",
     "text": [
      "\n",
      " 1. Probability of Heart Disease given evidence = restecg\n",
      "+-----------+---------------+\n",
      "| target    |   phi(target) |\n",
      "+===========+===============+\n",
      "| target(0) |        0.4354 |\n",
      "+-----------+---------------+\n",
      "| target(1) |        0.5646 |\n",
      "+-----------+---------------+\n"
     ]
    }
   ],
   "source": [
    "print('\\n 1. Probability of Heart Disease given evidence = restecg')\n",
    "q1 = heart_disease_infer.query(variables = ['target'],evidence={'restecg':1})\n",
    "print(q1)"
   ]
  },
  {
   "cell_type": "code",
   "execution_count": 18,
   "id": "ede644aa",
   "metadata": {},
   "outputs": [
    {
     "name": "stdout",
     "output_type": "stream",
     "text": [
      "\n",
      " 2. Probability of Heart Disease given evidence = cp\n",
      "+-----------+---------------+\n",
      "| target    |   phi(target) |\n",
      "+===========+===============+\n",
      "| target(0) |        0.3832 |\n",
      "+-----------+---------------+\n",
      "| target(1) |        0.6168 |\n",
      "+-----------+---------------+\n"
     ]
    }
   ],
   "source": [
    "print('\\n 2. Probability of Heart Disease given evidence = cp')\n",
    "q2 = heart_disease_infer.query(variables = ['target'],evidence={'cp':2})\n",
    "print(q2)"
   ]
  },
  {
   "cell_type": "code",
   "execution_count": 22,
   "id": "a1b82169",
   "metadata": {},
   "outputs": [
    {
     "name": "stdout",
     "output_type": "stream",
     "text": [
      "age\n",
      "58    68\n",
      "57    57\n",
      "54    53\n",
      "59    46\n",
      "52    43\n",
      "51    39\n",
      "56    39\n",
      "62    37\n",
      "60    37\n",
      "44    36\n",
      "64    34\n",
      "41    32\n",
      "63    32\n",
      "67    31\n",
      "61    31\n",
      "55    30\n",
      "65    27\n",
      "43    26\n",
      "42    26\n",
      "53    26\n",
      "66    25\n",
      "45    25\n",
      "48    23\n",
      "46    23\n",
      "50    21\n",
      "47    18\n",
      "49    17\n",
      "35    15\n",
      "39    14\n",
      "70    14\n",
      "68    12\n",
      "38    12\n",
      "71    11\n",
      "40    11\n",
      "69     9\n",
      "37     6\n",
      "34     6\n",
      "29     4\n",
      "76     3\n",
      "77     3\n",
      "74     3\n",
      "Name: age, dtype: int64\n",
      "sex\n",
      "1    713\n",
      "0    312\n",
      "Name: sex, dtype: int64\n",
      "cp\n",
      "0    497\n",
      "2    284\n",
      "1    167\n",
      "3     77\n",
      "Name: cp, dtype: int64\n",
      "trestbps\n",
      "120    128\n",
      "130    123\n",
      "140    107\n",
      "110     64\n",
      "150     55\n",
      "138     45\n",
      "128     39\n",
      "125     38\n",
      "160     36\n",
      "112     30\n",
      "132     28\n",
      "118     24\n",
      "108     21\n",
      "124     20\n",
      "135     20\n",
      "145     17\n",
      "134     17\n",
      "152     17\n",
      "170     15\n",
      "122     14\n",
      "100     14\n",
      "136     11\n",
      "126     10\n",
      "180     10\n",
      "142      9\n",
      "115      9\n",
      "105      9\n",
      "146      8\n",
      "148      7\n",
      "178      7\n",
      "94       7\n",
      "144      6\n",
      "102      6\n",
      "154      4\n",
      "117      4\n",
      "165      4\n",
      "200      4\n",
      "114      4\n",
      "123      4\n",
      "192      3\n",
      "106      3\n",
      "104      3\n",
      "129      3\n",
      "174      3\n",
      "155      3\n",
      "172      3\n",
      "164      3\n",
      "156      3\n",
      "101      3\n",
      "Name: trestbps, dtype: int64\n",
      "chol\n",
      "204    21\n",
      "234    21\n",
      "197    19\n",
      "212    18\n",
      "254    17\n",
      "       ..\n",
      "164     3\n",
      "394     3\n",
      "215     3\n",
      "160     3\n",
      "141     3\n",
      "Name: chol, Length: 152, dtype: int64\n",
      "fbs\n",
      "0    872\n",
      "1    153\n",
      "Name: fbs, dtype: int64\n",
      "restecg\n",
      "1    513\n",
      "0    497\n",
      "2     15\n",
      "Name: restecg, dtype: int64\n",
      "thalach\n",
      "162    35\n",
      "160    31\n",
      "163    29\n",
      "173    28\n",
      "152    28\n",
      "       ..\n",
      "194     3\n",
      "185     3\n",
      "106     3\n",
      "88      3\n",
      "113     3\n",
      "Name: thalach, Length: 91, dtype: int64\n",
      "exang\n",
      "0    680\n",
      "1    345\n",
      "Name: exang, dtype: int64\n",
      "oldpeak\n",
      "0.0    329\n",
      "1.2     58\n",
      "1.0     51\n",
      "0.6     47\n",
      "0.8     44\n",
      "1.4     44\n",
      "1.6     37\n",
      "0.2     37\n",
      "1.8     36\n",
      "2.0     32\n",
      "0.4     30\n",
      "0.1     23\n",
      "2.8     22\n",
      "2.6     21\n",
      "3.0     17\n",
      "1.9     16\n",
      "1.5     16\n",
      "3.6     15\n",
      "0.5     15\n",
      "2.2     14\n",
      "4.0     12\n",
      "2.4     11\n",
      "0.3     10\n",
      "3.4     10\n",
      "0.9     10\n",
      "3.2      8\n",
      "2.5      7\n",
      "2.3      7\n",
      "4.2      6\n",
      "1.1      6\n",
      "4.4      4\n",
      "3.8      4\n",
      "5.6      4\n",
      "3.1      4\n",
      "1.3      3\n",
      "2.9      3\n",
      "2.1      3\n",
      "6.2      3\n",
      "0.7      3\n",
      "3.5      3\n",
      "Name: oldpeak, dtype: int64\n",
      "slope\n",
      "1    482\n",
      "2    469\n",
      "0     74\n",
      "Name: slope, dtype: int64\n",
      "ca\n",
      "0    578\n",
      "1    226\n",
      "2    134\n",
      "3     69\n",
      "4     18\n",
      "Name: ca, dtype: int64\n",
      "thal\n",
      "2    544\n",
      "3    410\n",
      "1     64\n",
      "0      7\n",
      "Name: thal, dtype: int64\n",
      "target\n",
      "1    526\n",
      "0    499\n",
      "Name: target, dtype: int64\n"
     ]
    }
   ],
   "source": [
    "for c in heart_df:\n",
    "    print(c)\n",
    "    print(heart_df[c].value_counts())"
   ]
  },
  {
   "cell_type": "code",
   "execution_count": null,
   "id": "98317b19",
   "metadata": {},
   "outputs": [],
   "source": []
  }
 ],
 "metadata": {
  "kernelspec": {
   "display_name": "Python 3 (ipykernel)",
   "language": "python",
   "name": "python3"
  },
  "language_info": {
   "codemirror_mode": {
    "name": "ipython",
    "version": 3
   },
   "file_extension": ".py",
   "mimetype": "text/x-python",
   "name": "python",
   "nbconvert_exporter": "python",
   "pygments_lexer": "ipython3",
   "version": "3.10.9"
  }
 },
 "nbformat": 4,
 "nbformat_minor": 5
}
