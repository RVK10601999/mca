{
 "cells": [
  {
   "cell_type": "code",
   "execution_count": 12,
   "id": "ca2e2598",
   "metadata": {},
   "outputs": [
    {
     "name": "stdout",
     "output_type": "stream",
     "text": [
      "-0.9029910753072274\n",
      "3\n"
     ]
    },
    {
     "data": {
      "image/png": "[encoded data removed]",
      "text/plain": [
       "<Figure size 432x288 with 1 Axes>"
      ]
     },
     "metadata": {
      "needs_background": "light"
     },
     "output_type": "display_data"
    }
   ],
   "source": [
    "import numpy as np\n",
    "import pandas as pd\n",
    "import matplotlib.pyplot as plt\n",
    "from sklearn import datasets\n",
    "from sklearn.mixture import GaussianMixture\n",
    "iris = datasets.load_iris()\n",
    "X =iris.data[:,:2]\n",
    "d = pd.DataFrame(X)\n",
    "plt.scatter(d[0],d[1])\n",
    "gmm = GaussianMixture(n_components=3)\n",
    "gmm.fit(iris.data[:,2:])\n",
    "labels = gmm.predict(d)\n",
    "d['labels'] = labels\n",
    "d0 = d[d['labels']==0]\n",
    "d1 = d[d['labels']==1]\n",
    "d2 = d[d['labels']==2]\n",
    "plt.scatter(d0[0],d0[1],c='red')\n",
    "plt.scatter(d1[0],d1[1],c='yellow')\n",
    "plt.scatter(d2[0],d2[1],c='green')\n",
    "print(gmm.lower_bound_)\n",
    "print(gmm.n_iter_)\n"
   ]
  }
 ],
 "metadata": {
  "kernelspec": {
   "display_name": "Python 3 (ipykernel)",
   "language": "python",
   "name": "python3"
  },
  "language_info": {
   "codemirror_mode": {
    "name": "ipython",
    "version": 3
   },
   "file_extension": ".py",
   "mimetype": "text/x-python",
   "name": "python",
   "nbconvert_exporter": "python",
   "pygments_lexer": "ipython3",
   "version": "3.9.7"
  }
 },
 "nbformat": 4,
 "nbformat_minor": 5
}
